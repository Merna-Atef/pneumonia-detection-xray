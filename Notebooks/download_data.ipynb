{
 "cells": [
  {
   "cell_type": "markdown",
   "id": "c177bb96-1233-4533-8297-cf7a68839561",
   "metadata": {
    "tags": []
   },
   "source": [
    "# Github"
   ]
  },
  {
   "cell_type": "markdown",
   "id": "459ec7f6-c320-4b1c-ac2b-87601f6c56b4",
   "metadata": {
    "tags": [],
    "toc-hr-collapsed": true
   },
   "source": [
    "## Import datasets and github\n",
    "* Clone chestxray dataset from the github link https://github.com/ieee8023/covid-chestxray-dataset.git\n",
    "\n",
    "* RSNA Pneumonia Detection Challenge dataset\n",
    "https://www.kaggle.com/c/rsna-pneumonia-detection-challenge and unzip rsna_dataset here"
   ]
  },
  {
   "cell_type": "code",
   "execution_count": 1,
   "id": "983d1dbc-c5a9-498c-bf75-56749351ca31",
   "metadata": {
    "collapsed": true,
    "jupyter": {
     "outputs_hidden": true
    },
    "tags": []
   },
   "outputs": [
    {
     "name": "stderr",
     "output_type": "stream",
     "text": [
      "Cloning into 'covid-chestxray-dataset'...\n",
      "Updating files:  60% (708/1174)\n",
      "Updating files:  61% (717/1174)\n",
      "Updating files:  62% (728/1174)\n",
      "Updating files:  63% (740/1174)\n",
      "Updating files:  64% (752/1174)\n",
      "Updating files:  65% (764/1174)\n",
      "Updating files:  66% (775/1174)\n",
      "Updating files:  67% (787/1174)\n",
      "Updating files:  68% (799/1174)\n",
      "Updating files:  69% (811/1174)\n",
      "Updating files:  70% (822/1174)\n",
      "Updating files:  71% (834/1174)\n",
      "Updating files:  72% (846/1174)\n",
      "Updating files:  73% (858/1174)\n",
      "Updating files:  74% (869/1174)\n",
      "Updating files:  75% (881/1174)\n",
      "Updating files:  76% (893/1174)\n",
      "Updating files:  77% (904/1174)\n",
      "Updating files:  78% (916/1174)\n",
      "Updating files:  79% (928/1174)\n",
      "Updating files:  80% (940/1174)\n",
      "Updating files:  81% (951/1174)\n",
      "Updating files:  81% (959/1174)\n",
      "Updating files:  82% (963/1174)\n",
      "Updating files:  83% (975/1174)\n",
      "Updating files:  84% (987/1174)\n",
      "Updating files:  85% (998/1174)\n",
      "Updating files:  86% (1010/1174)\n",
      "Updating files:  87% (1022/1174)\n",
      "Updating files:  88% (1034/1174)\n",
      "Updating files:  89% (1045/1174)\n",
      "Updating files:  90% (1057/1174)\n",
      "Updating files:  91% (1069/1174)\n",
      "Updating files:  92% (1081/1174)\n",
      "Updating files:  93% (1092/1174)\n",
      "Updating files:  94% (1104/1174)\n",
      "Updating files:  95% (1116/1174)\n",
      "Updating files:  96% (1128/1174)\n",
      "Updating files:  97% (1139/1174)\n",
      "Updating files:  98% (1151/1174)\n",
      "Updating files:  99% (1163/1174)\n",
      "Updating files: 100% (1174/1174)\n",
      "Updating files: 100% (1174/1174), done.\n"
     ]
    }
   ],
   "source": [
    "! git clone https://github.com/ieee8023/covid-chestxray-dataset.git"
   ]
  },
  {
   "cell_type": "code",
   "execution_count": 2,
   "id": "e5afba97-813f-4577-92b2-b67aed64f292",
   "metadata": {
    "collapsed": true,
    "jupyter": {
     "outputs_hidden": true
    },
    "tags": []
   },
   "outputs": [
    {
     "name": "stderr",
     "output_type": "stream",
     "text": [
      "Cloning into 'Figure1-COVID-chestxray-dataset'...\n"
     ]
    }
   ],
   "source": [
    "! git clone https://github.com/agchung/Figure1-COVID-chestxray-dataset.git"
   ]
  },
  {
   "cell_type": "code",
   "execution_count": 3,
   "id": "57ec0a4e-95cb-4261-b387-d7f88c5c4dc8",
   "metadata": {
    "collapsed": true,
    "jupyter": {
     "outputs_hidden": true
    },
    "tags": []
   },
   "outputs": [
    {
     "name": "stderr",
     "output_type": "stream",
     "text": [
      "Cloning into 'Actualmed-COVID-chestxray-dataset'...\n",
      "Updating files:  23% (57/240)\n",
      "Updating files:  24% (58/240)\n",
      "Updating files:  25% (60/240)\n",
      "Updating files:  26% (63/240)\n",
      "Updating files:  27% (65/240)\n",
      "Updating files:  28% (68/240)\n",
      "Updating files:  29% (70/240)\n",
      "Updating files:  30% (72/240)\n",
      "Updating files:  31% (75/240)\n",
      "Updating files:  32% (77/240)\n",
      "Updating files:  33% (80/240)\n",
      "Updating files:  34% (82/240)\n",
      "Updating files:  35% (84/240)\n",
      "Updating files:  36% (87/240)\n",
      "Updating files:  37% (89/240)\n",
      "Updating files:  38% (92/240)\n",
      "Updating files:  39% (94/240)\n",
      "Updating files:  40% (96/240)\n",
      "Updating files:  40% (98/240)\n",
      "Updating files:  41% (99/240)\n",
      "Updating files:  42% (101/240)\n",
      "Updating files:  43% (104/240)\n",
      "Updating files:  44% (106/240)\n",
      "Updating files:  45% (108/240)\n",
      "Updating files:  46% (111/240)\n",
      "Updating files:  47% (113/240)\n",
      "Updating files:  48% (116/240)\n",
      "Updating files:  49% (118/240)\n",
      "Updating files:  50% (120/240)\n",
      "Updating files:  51% (123/240)\n",
      "Updating files:  52% (125/240)\n",
      "Updating files:  53% (128/240)\n",
      "Updating files:  54% (130/240)\n",
      "Updating files:  55% (132/240)\n",
      "Updating files:  56% (135/240)\n",
      "Updating files:  57% (137/240)\n",
      "Updating files:  58% (140/240)\n",
      "Updating files:  59% (142/240)\n",
      "Updating files:  60% (144/240)\n",
      "Updating files:  61% (147/240)\n",
      "Updating files:  62% (149/240)\n",
      "Updating files:  63% (152/240)\n",
      "Updating files:  64% (154/240)\n",
      "Updating files:  65% (156/240)\n",
      "Updating files:  66% (159/240)\n",
      "Updating files:  67% (161/240)\n",
      "Updating files:  68% (164/240)\n",
      "Updating files:  68% (165/240)\n",
      "Updating files:  69% (166/240)\n",
      "Updating files:  70% (168/240)\n",
      "Updating files:  71% (171/240)\n",
      "Updating files:  72% (173/240)\n",
      "Updating files:  73% (176/240)\n",
      "Updating files:  74% (178/240)\n",
      "Updating files:  75% (180/240)\n",
      "Updating files:  76% (183/240)\n",
      "Updating files:  77% (185/240)\n",
      "Updating files:  78% (188/240)\n",
      "Updating files:  79% (190/240)\n",
      "Updating files:  80% (192/240)\n",
      "Updating files:  81% (195/240)\n",
      "Updating files:  82% (197/240)\n",
      "Updating files:  82% (198/240)\n",
      "Updating files:  83% (200/240)\n",
      "Updating files:  84% (202/240)\n",
      "Updating files:  85% (204/240)\n",
      "Updating files:  86% (207/240)\n",
      "Updating files:  87% (209/240)\n",
      "Updating files:  88% (212/240)\n",
      "Updating files:  89% (214/240)\n",
      "Updating files:  90% (216/240)\n",
      "Updating files:  91% (219/240)\n",
      "Updating files:  92% (221/240)\n",
      "Updating files:  93% (224/240)\n",
      "Updating files:  94% (226/240)\n",
      "Updating files:  95% (228/240)\n",
      "Updating files:  96% (231/240)\n",
      "Updating files:  97% (233/240)\n",
      "Updating files:  98% (236/240)\n",
      "Updating files:  99% (238/240)\n",
      "Updating files: 100% (240/240)\n",
      "Updating files: 100% (240/240), done.\n"
     ]
    }
   ],
   "source": [
    "! git clone https://github.com/agchung/Actualmed-COVID-chestxray-dataset.git"
   ]
  },
  {
   "cell_type": "code",
   "execution_count": 4,
   "id": "9b9ca76f-0022-4850-943a-674a409b0de5",
   "metadata": {},
   "outputs": [
    {
     "name": "stderr",
     "output_type": "stream",
     "text": [
      "Cloning into 'COVIDNet'...\n"
     ]
    }
   ],
   "source": [
    "! git clone https://github.com/IliasPap/COVIDNet.git"
   ]
  },
  {
   "cell_type": "code",
   "execution_count": null,
   "id": "f33080dd-d654-4222-a3bc-25ecf5c2a0c6",
   "metadata": {},
   "outputs": [],
   "source": [
    "COPY_FILE = True\n"
   ]
  },
  {
   "cell_type": "markdown",
   "id": "6ad814af-a1d1-4058-9b01-1974b2f61919",
   "metadata": {},
   "source": [
    "# Imports"
   ]
  },
  {
   "cell_type": "code",
   "execution_count": 1,
   "id": "f23d7b8d-68d3-40a6-8599-7886c545673d",
   "metadata": {},
   "outputs": [],
   "source": [
    "import numpy as np\n",
    "import pandas as pd\n",
    "import os\n",
    "import random \n",
    "from shutil import copyfile\n",
    "import pydicom as dicom\n",
    "import cv2\n",
    "import os"
   ]
  },
  {
   "cell_type": "markdown",
   "id": "52047dda-a706-480c-9ba9-71d7ce3c1003",
   "metadata": {},
   "source": [
    "# Parameters"
   ]
  },
  {
   "cell_type": "code",
   "execution_count": 2,
   "id": "41db35a6-d811-496b-95e2-72739660571d",
   "metadata": {},
   "outputs": [],
   "source": [
    "# set parameters here\n",
    "savepath = '../Data'\n",
    "#train = '../Data/train'\n",
    "#test = '../Data/test'\n",
    "\n",
    "seed = 0\n",
    "np.random.seed(seed) # Reset the seed so all runs are the same.\n",
    "random.seed(seed)\n",
    "MAXVAL = 255  # Range [0 255]"
   ]
  },
  {
   "cell_type": "markdown",
   "id": "37290d51-408a-46ca-9fd6-f6025cbe259d",
   "metadata": {},
   "source": [
    "## Paths"
   ]
  },
  {
   "cell_type": "code",
   "execution_count": 3,
   "id": "838b9f59-23e5-43f2-9865-c1d410645964",
   "metadata": {},
   "outputs": [],
   "source": [
    "# path to covid-19 dataset from https://github.com/ieee8023/covid-chestxray-dataset\n",
    "cohen_imgpath = '../Original Data/covid-chestxray-dataset/images' \n",
    "cohen_csvpath = '../Original Data/covid-chestxray-dataset/metadata.csv'\n",
    "\n",
    "# path to covid-19 dataset from https://github.com/agchung/Figure1-COVID-chestxray-dataset\n",
    "fig1_imgpath = '../Original Data/Figure1-COVID-chestxray-dataset/images'\n",
    "fig1_csvpath = '../Original Data/Figure1-COVID-chestxray-dataset/metadata.csv'\n",
    "\n",
    "# path to covid-19 dataset from https://github.com/agchung/Actualmed-COVID-chestxray-dataset\n",
    "actmed_imgpath = '../Original Data/Actualmed-COVID-chestxray-dataset/images'\n",
    "actmed_csvpath = '../Original Data/Actualmed-COVID-chestxray-dataset/metadata.csv'\n",
    "\n",
    "# path to viral pneumonia dataset from https://www.kaggle.com/tawsifurrahman/covid19-radiography-database\n",
    "sirm_imgpath = '../Original Data/COVID-19_Radiography_Dataset/Viral Pneumonia'\n",
    "sirm_csvpath = '../Original Data/COVID-19_Radiography_Dataset/Viral Pneumonia.metadata.xlsx'\n",
    "\n",
    "# path to normal dataset from https://www.kaggle.com/tawsifurrahman/covid19-radiography-database\n",
    "sirm_imgpath_norm = '../Original Data/COVID-19_Radiography_Dataset/Normal'\n",
    "sirm_csvpath_norm = '../Original Data/COVID-19_Radiography_Dataset/Normal.metadata.xlsx'"
   ]
  },
  {
   "cell_type": "code",
   "execution_count": 4,
   "id": "9b2a4f9c-bae3-4431-ac57-c22dd0eeb128",
   "metadata": {},
   "outputs": [],
   "source": [
    "# path to https://www.kaggle.com/c/rsna-pneumonia-detection-challenge\n",
    "rsna_datapath = '../Original Data/rsna-pneumonia-detection-challenge'\n",
    "# get all the normal from here\n",
    "rsna_csvname = 'stage_2_detailed_class_info.csv' \n",
    "# get all the 1sfrom here since 1 indicate pneumonia\n",
    "# found that images that aren't pneunmonia and also not normal are classified as 0s\n",
    "rsna_csvname2 = 'stage_2_train_labels.csv' \n",
    "rsna_imgpath = 'stage_2_train_images'"
   ]
  },
  {
   "cell_type": "code",
   "execution_count": 5,
   "id": "f1b02705-5ae5-485e-b576-ad21a404cad0",
   "metadata": {},
   "outputs": [],
   "source": [
    "# parameters for COVIDx dataset\n",
    "train = []\n",
    "test = []\n",
    "test_count = {'normal': 0, 'pneumonia': 0}\n",
    "train_count = {'normal': 0, 'pneumonia': 0}\n",
    "\n",
    "mapping = dict()\n",
    "#mapping['COVID-19'] = 'COVID-19'\n",
    "mapping['NORMAL'] = 'normal'\n",
    "mapping['SARS'] = 'pneumonia'\n",
    "mapping['MERS'] = 'pneumonia'\n",
    "mapping['Streptococcus'] = 'pneumonia'\n",
    "mapping['Klebsiella'] = 'pneumonia'\n",
    "mapping['Chlamydophila'] = 'pneumonia'\n",
    "mapping['Legionella'] = 'pneumonia'\n",
    "mapping['Viral Pneumonia'] = 'pneumonia'\n",
    "mapping['Lung Opacity'] = 'pneumonia'\n",
    "mapping['Pneumonia'] = 'pneumonia'\n",
    "mapping['1'] = 'pneumonia'\n",
    "mapping['0'] = 'normal'\n",
    "mapping['Normal'] = 'normal'"
   ]
  },
  {
   "cell_type": "code",
   "execution_count": 6,
   "id": "930951cc-9038-4bd6-bf9c-c49d4ef483b3",
   "metadata": {},
   "outputs": [],
   "source": [
    "# train/test split\n",
    "split = 0.1\n",
    "\n",
    "# to avoid duplicates\n",
    "patient_imgpath = {}"
   ]
  },
  {
   "cell_type": "code",
   "execution_count": 7,
   "id": "ea655086-c540-4483-8718-113d3c845f13",
   "metadata": {},
   "outputs": [],
   "source": [
    "cohen_csv = pd.read_csv(cohen_csvpath, nrows=None)\n",
    "#idx_pa = csv[\"view\"] == \"PA\"  # Keep only the PA view\n",
    "views = [\"PA\", \"AP\", \"AP Supine\", \"AP semi erect\", \"AP erect\"]\n",
    "cohen_idx_keep = cohen_csv.view.isin(views)\n",
    "cohen_csv = cohen_csv[cohen_idx_keep]\n",
    "\n",
    "fig1_csv = pd.read_csv(fig1_csvpath, encoding='ISO-8859-1', nrows=None)\n",
    "actmed_csv = pd.read_csv(actmed_csvpath, nrows=None)\n",
    "\n",
    "sirm_csv = pd.read_excel(sirm_csvpath)\n",
    "\n",
    "sirm_csv_norm = pd.read_excel(sirm_csvpath_norm)"
   ]
  },
  {
   "cell_type": "code",
   "execution_count": 8,
   "id": "587a60cb-3201-410b-bb18-40afc6cd088a",
   "metadata": {},
   "outputs": [
    {
     "name": "stdout",
     "output_type": "stream",
     "text": [
      "Data distribution from covid datasets:\n",
      "{'normal': 10192, 'pneumonia': 2015}\n"
     ]
    }
   ],
   "source": [
    "# get non-COVID19 viral, bacteria, and COVID-19 infections from covid-chestxray-dataset, figure1 and actualmed\n",
    "# stored as patient id, image filename and label\n",
    "filename_label = {'normal': [], 'pneumonia': []}\n",
    "count = {'normal': 0, 'pneumonia': 0}\n",
    "covid_ds = {'cohen': [], 'fig1': [], 'actmed': [], 'sirm': [], 'sirm_norm': []}\n",
    "\n",
    "for index, row in cohen_csv.iterrows():\n",
    "    f = row['finding'].split('/')[0]\n",
    "    if f in mapping: # \n",
    "        count[mapping[f]] += 1\n",
    "        entry = [str(row['patientid']), row['filename'], mapping[f], 'cohen']\n",
    "        filename_label[mapping[f]].append(entry)\n",
    "        if mapping[f] == 'COVID-19':\n",
    "            covid_ds['cohen'].append(str(row['patientid']))\n",
    "        \n",
    "for index, row in fig1_csv.iterrows():\n",
    "    if not str(row['finding']) == 'nan':\n",
    "        f = row['finding'].split(',')[0] # take the first finding\n",
    "        if f in mapping: # \n",
    "            count[mapping[f]] += 1\n",
    "            if os.path.exists(os.path.join(fig1_imgpath, row['patientid'] + '.jpg')):\n",
    "                entry = [row['patientid'], row['patientid'] + '.jpg', mapping[f], 'fig1']\n",
    "            elif os.path.exists(os.path.join(fig1_imgpath, row['patientid'] + '.png')):\n",
    "                entry = [row['patientid'], row['patientid'] + '.png', mapping[f], 'fig1']\n",
    "            filename_label[mapping[f]].append(entry)\n",
    "            if mapping[f] == 'COVID-19':\n",
    "                covid_ds['fig1'].append(row['patientid'])\n",
    "\n",
    "for index, row in actmed_csv.iterrows():\n",
    "    if not str(row['finding']) == 'nan':\n",
    "        f = row['finding'].split(',')[0]\n",
    "        if f in mapping:\n",
    "            count[mapping[f]] += 1\n",
    "            entry = [row['patientid'], row['imagename'], mapping[f], 'actmed']\n",
    "            filename_label[mapping[f]].append(entry)\n",
    "            if mapping[f] == 'COVID-19':\n",
    "                covid_ds['actmed'].append(row['patientid'])\n",
    "    \n",
    "sirm = set(sirm_csv['URL'])\n",
    "cohen = set(cohen_csv['url'])\n",
    "#discard = ['100', '101', '102', '103', '104', '105',  '110', '111', '112', '113', '122', '123', '124', '125', '126', '217']\n",
    "\n",
    "for idx, row in sirm_csv.iterrows():\n",
    "    patientid = row['FILE NAME']\n",
    "    if row['URL'] not in cohen:\n",
    "        key = patientid.split('-')[0]\n",
    "        if key in mapping:\n",
    "            count[mapping[key]] += 1\n",
    "            imagename = patientid + '.' + row['FORMAT'].lower()\n",
    "            if not os.path.exists(os.path.join(sirm_imgpath, imagename)):\n",
    "                continue\n",
    "            entry = [patientid, imagename, mapping[key], 'sirm']\n",
    "            filename_label[mapping[key]].append(entry)\n",
    "            covid_ds['sirm'].append(patientid)\n",
    "            \n",
    "for idx, row in sirm_csv_norm.iterrows():\n",
    "    patientid = row['FILE NAME']\n",
    "    if row['URL'] not in cohen:\n",
    "        key = patientid.split('-')[0]\n",
    "        if key in mapping:\n",
    "            count[mapping[key]] += 1\n",
    "            imagename = patientid + '.' + row['FORMAT'].lower()\n",
    "            entry = [patientid, imagename, mapping[key], 'sirm_norm']\n",
    "            filename_label[mapping[key]].append(entry)\n",
    "            covid_ds['sirm_norm'].append(patientid)\n",
    "\n",
    "print('Data distribution from covid datasets:')\n",
    "print(count)"
   ]
  },
  {
   "cell_type": "markdown",
   "id": "b118343f-f1fb-41ab-930e-f64f8f2d73e8",
   "metadata": {},
   "source": [
    "Data distribution from covid datasets:\n",
    "{'normal': 10192, 'pneumonia': 2015, 'COVID-19': 93}"
   ]
  },
  {
   "cell_type": "code",
   "execution_count": 11,
   "id": "22d45377-ca1a-4eaa-9304-c18f532bb797",
   "metadata": {
    "tags": []
   },
   "outputs": [
    {
     "data": {
      "text/plain": [
       "dict_keys(['normal', 'pneumonia'])"
      ]
     },
     "execution_count": 11,
     "metadata": {},
     "output_type": "execute_result"
    }
   ],
   "source": [
    "filename_label.keys()"
   ]
  },
  {
   "cell_type": "code",
   "execution_count": 9,
   "id": "7a367c1f-8f32-4871-a9f4-e1da2c8dce9b",
   "metadata": {
    "tags": []
   },
   "outputs": [
    {
     "name": "stdout",
     "output_type": "stream",
     "text": [
      "['10', '101', '112', '113', '114', '115', '116', '117', '13', '132', '139', '142', '143', '144', '15', '150', '160', '163', '164', '167', '168', '169', '17', '171', '173', '178', '179', '183', '185', '187', '19', '190', '191', '192', '196', '197', '198', '2', '205', '206', '219', '221', '222', '225', '226', '228', '230', '235', '243', '244', '245', '246', '249', '250', '252', '253', '254', '263', '264', '272', '277', '278', '279', '282', '283', '284', '288', '289', '290', '291', '293', '294', '299', '3', '300', '303', '305', '31', '310', '313a', '314', '315', '316', '318', '320', '321', '324b', '326a', '331b', '332', '337', '338', '339', '342', '344', '347', '350a', '357', '359', '36', '360b', '362', '364', '365', '368', '369', '37', '379', '380', '382', '383', '396', '399', '4', '403', '404', '410', '412', '413', '416', '420', '423b', '425c', '425d', '426a', '426b', '446', '447', '451', '462', '471', '475', '477', '479', '51', '57', '58', '59', '6', '67', '68', '69', '7', '70', '71', '73', '86', '87', '9', '91', '92', '95', '96', '97']\n"
     ]
    }
   ],
   "source": [
    "a = np.array(filename_label['pneumonia'])\n",
    "\n",
    "\n",
    "names, counts = np.unique(a[:,0], return_counts = True)\n",
    "\n",
    "our_test_patients = []\n",
    "for i in range(len(counts)):\n",
    "    if counts[i] > 1:\n",
    "        our_test_patients.append(names[i])\n",
    "print(our_test_patients)"
   ]
  },
  {
   "cell_type": "code",
   "execution_count": 12,
   "id": "d15e18d8-4649-4e40-89b1-7b189f588955",
   "metadata": {
    "colab": {
     "base_uri": "https://localhost:8080/",
     "height": 139
    },
    "id": "oGWHn7A9Dz0d",
    "outputId": "2c3b87e4-5db1-407d-83b0-d3ac59267b06"
   },
   "outputs": [
    {
     "name": "stdout",
     "output_type": "stream",
     "text": [
      "Key:  normal\n",
      "Test patients:  []\n",
      "Key:  pneumonia\n",
      "Test patients:  ['8', '31', '10', '101', '112', '113', '114', '115', '116', '117', '13', '132', '139', '142', '143', '144', '15', '150', '160', '163', '164', '167', '168', '169', '17', '171', '173', '178', '179', '183', '185', '187', '19', '190', '191', '192', '196', '197', '198', '2', '205', '206', '219', '221', '222', '225', '226', '228', '230', '235', '243', '244', '245', '246', '249', '250', '252', '253', '254', '263', '264', '272', '277', '278', '279', '282', '283', '284', '288', '289', '290', '291', '293', '294', '299', '3', '300', '303', '305', '31', '310', '313a', '314', '315', '316', '318', '320', '321', '324b', '326a', '331b', '332', '337', '338', '339', '342', '344', '347', '350a', '357', '359', '36', '360b', '362', '364', '365', '368', '369', '37', '379', '380', '382', '383', '396', '399', '4', '403', '404', '410', '412', '413', '416', '420', '423b', '425c', '425d', '426a', '426b', '446', '447', '451', '462', '471', '475', '477', '479', '51', '57', '58', '59', '6', '67', '68', '69', '7', '70', '71', '73', '86', '87', '9', '91', '92', '95', '96', '97']\n",
      "test count:  {'normal': 0, 'pneumonia': 415}\n",
      "train count:  {'normal': 10192, 'pneumonia': 1600}\n"
     ]
    }
   ],
   "source": [
    "# add covid-chestxray-dataset, figure1 and actualmed into COVIDx dataset\n",
    "# since these datasets don't have test dataset, split into train/test by patientid\n",
    "# for covid-chestxray-dataset:\n",
    "# patient 8 is used as non-COVID19 viral test\n",
    "# patient 31 is used as bacterial test\n",
    "# patients 19, 20, 36, 42, 86 are used as COVID-19 viral test\n",
    "# for figure 1:\n",
    "# patients 24, 25, 27, 29, 30, 32, 33, 36, 37, 38\n",
    "\n",
    "ds_imgpath = {'cohen': cohen_imgpath, 'fig1': fig1_imgpath, 'actmed': actmed_imgpath, 'sirm': sirm_imgpath,\n",
    "              'sirm_norm': sirm_imgpath_norm }\n",
    "\n",
    "for key in filename_label.keys():\n",
    "    arr = np.array(filename_label[key])\n",
    "    if arr.size == 0:\n",
    "        continue\n",
    "    # split by patients\n",
    "    # num_diff_patients = len(np.unique(arr[:,0]))\n",
    "    # num_test = max(1, round(split*num_diff_patients))\n",
    "    # select num_test number of random patients\n",
    "    # random.sample(list(arr[:,0]), num_test)\n",
    "    if key == 'pneumonia':\n",
    "        test_patients = ['8', '31'] + our_test_patients\n",
    "    elif key == 'COVID-19':\n",
    "        \n",
    "        test_patients = ['19', '20', '36', '42', '86', \n",
    "                         '94', '97', '117', '132', \n",
    "                         '138', '144', '150', '163', '169', '174', '175', '179', '190', '191'\n",
    "                         'COVID-00024', 'COVID-00025', 'COVID-00026', 'COVID-00027', 'COVID-00029',\n",
    "                         'COVID-00030', 'COVID-00032', 'COVID-00033', 'COVID-00035', 'COVID-00036',\n",
    "                         'COVID-00037', 'COVID-00038',\n",
    "                         'ANON24', 'ANON45', 'ANON126', 'ANON106', 'ANON67',\n",
    "                         'ANON153', 'ANON135', 'ANON44', 'ANON29', 'ANON201', \n",
    "                         'ANON191', 'ANON234', 'ANON110', 'ANON112', 'ANON73', \n",
    "                         'ANON220', 'ANON189', 'ANON30', 'ANON53', 'ANON46',\n",
    "                         'ANON218', 'ANON240', 'ANON100', 'ANON237', 'ANON158',\n",
    "                         'ANON174', 'ANON19', 'ANON195',\n",
    "                         'COVID-19(119)', 'COVID-19(87)', 'COVID-19(70)', 'COVID-19(94)', \n",
    "                         'COVID-19(215)', 'COVID-19(77)', 'COVID-19(213)', 'COVID-19(81)', \n",
    "                         'COVID-19(216)', 'COVID-19(72)', 'COVID-19(106)', 'COVID-19(131)', \n",
    "                         'COVID-19(107)', 'COVID-19(116)', 'COVID-19(95)', 'COVID-19(214)', \n",
    "                         'COVID-19(129)']\n",
    "    else: \n",
    "        test_patients = []\n",
    "    print('Key: ', key)\n",
    "    print('Test patients: ', test_patients)\n",
    "    # go through all the patients\n",
    "    for patient in arr:\n",
    "        if patient[0] not in patient_imgpath:\n",
    "            patient_imgpath[patient[0]] = [patient[1]]\n",
    "        else:\n",
    "            if patient[1] not in patient_imgpath[patient[0]]:\n",
    "                patient_imgpath[patient[0]].append(patient[1])\n",
    "                # print('THERE IS A WAY')\n",
    "            else:\n",
    "                continue  # skip since image has already been written\n",
    "        if patient[0] in test_patients:\n",
    "            if patient[3] == 'sirm' or patient[3] == 'sirm_norm':\n",
    "                image = cv2.imread(os.path.join(ds_imgpath[patient[3]], patient[1]))\n",
    "                gray = cv2.cvtColor(image, cv2.COLOR_BGR2GRAY)\n",
    "                patient[1] = patient[1].replace(' ', '')\n",
    "                cv2.imwrite(os.path.join(savepath, 'test', key, patient[1]), gray)\n",
    "            else:\n",
    "                copyfile(os.path.join(ds_imgpath[patient[3]], patient[1]), os.path.join(savepath, 'test', key, patient[1]))\n",
    "            test.append(patient)\n",
    "            test_count[patient[2]] += 1\n",
    "        else:\n",
    "            if patient[3] == 'sirm' or patient[3] == 'sirm_norm':\n",
    "                image = cv2.imread(os.path.join(ds_imgpath[patient[3]], patient[1]))\n",
    "                gray = cv2.cvtColor(image, cv2.COLOR_BGR2GRAY)\n",
    "                patient[1] = patient[1].replace(' ', '')\n",
    "                cv2.imwrite(os.path.join(savepath, 'train', key, patient[1]), gray)\n",
    "            else:\n",
    "                copyfile(os.path.join(ds_imgpath[patient[3]], patient[1]), os.path.join(savepath, 'train', key, patient[1]))\n",
    "            train.append(patient)\n",
    "            train_count[patient[2]] += 1\n",
    "\n",
    "print('test count: ', test_count)\n",
    "print('train count: ', train_count)"
   ]
  },
  {
   "cell_type": "markdown",
   "id": "a0a73633-fa61-4633-ad40-9cb91b45bf0e",
   "metadata": {},
   "source": [
    "Key:  normal\n",
    "Test patients:  []\n",
    "Key:  pneumonia\n",
    "Test patients:  ['8', '31', '10', '101', '112', '113', '114', '115', '116', '117', '13', '132', '139', '142', '143', '144', '15', '150', '160', '163', '164', '167', '168', '169', '17', '171', '173', '178', '179', '183', '185', '187', '19', '190', '191', '192', '196', '197', '198', '2', '205', '206', '219', '221', '222', '225', '226', '228', '230', '235', '243', '244', '245', '246', '249', '250', '252', '253', '254', '263', '264', '272', '277', '278', '279', '282', '283', '284', '288', '289', '290', '291', '293', '294', '299', '3', '300', '303', '305', '31', '310', '313a', '314', '315', '316', '318', '320', '321', '324b', '326a', '331b', '332', '337', '338', '339', '342', '344', '347', '350a', '357', '359', '36', '360b', '362', '364', '365', '368', '369', '37', '379', '380', '382', '383', '396', '399', '4', '403', '404', '410', '412', '413', '416', '420', '423b', '425c', '425d', '426a', '426b', '446', '447', '451', '462', '471', '475', '477', '479', '51', '57', '58', '59', '6', '67', '68', '69', '7', '70', '71', '73', '86', '87', '9', '91', '92', '95', '96', '97']\n",
    "Key:  COVID-19\n",
    "Test patients:  ['19', '20', '36', '42', '86', '94', '97', '117', '132', '138', '144', '150', '163', '169', '174', '175', '179', '190', '191COVID-00024', 'COVID-00025', 'COVID-00026', 'COVID-00027', 'COVID-00029', 'COVID-00030', 'COVID-00032', 'COVID-00033', 'COVID-00035', 'COVID-00036', 'COVID-00037', 'COVID-00038', 'ANON24', 'ANON45', 'ANON126', 'ANON106', 'ANON67', 'ANON153', 'ANON135', 'ANON44', 'ANON29', 'ANON201', 'ANON191', 'ANON234', 'ANON110', 'ANON112', 'ANON73', 'ANON220', 'ANON189', 'ANON30', 'ANON53', 'ANON46', 'ANON218', 'ANON240', 'ANON100', 'ANON237', 'ANON158', 'ANON174', 'ANON19', 'ANON195', 'COVID-19(119)', 'COVID-19(87)', 'COVID-19(70)', 'COVID-19(94)', 'COVID-19(215)', 'COVID-19(77)', 'COVID-19(213)', 'COVID-19(81)', 'COVID-19(216)', 'COVID-19(72)', 'COVID-19(106)', 'COVID-19(131)', 'COVID-19(107)', 'COVID-19(116)', 'COVID-19(95)', 'COVID-19(214)', 'COVID-19(129)']\n",
    "test count:  {'normal': 0, 'pneumonia': 415, 'COVID-19': 44}\n",
    "train count:  {'normal': 10192, 'pneumonia': 1600, 'COVID-19': 49}"
   ]
  },
  {
   "cell_type": "code",
   "execution_count": 13,
   "id": "37f9b580-d942-4aed-9c2a-4c2ac9b2edf8",
   "metadata": {},
   "outputs": [],
   "source": [
    "csv_normal = pd.read_csv(os.path.join(rsna_datapath, rsna_csvname), nrows=None)\n",
    "csv_pneu = pd.read_csv(os.path.join(rsna_datapath, rsna_csvname2), nrows=None)\n",
    "patients = {'normal': [], 'pneumonia': []}\n",
    "\n",
    "for index, row in csv_normal.iterrows():\n",
    "    if row['class'] == 'Normal':\n",
    "        patients['normal'].append(row['patientId'])\n",
    "\n",
    "for index, row in csv_pneu.iterrows():\n",
    "    if int(row['Target']) == 1:\n",
    "        patients['pneumonia'].append(row['patientId'])"
   ]
  },
  {
   "cell_type": "code",
   "execution_count": 13,
   "id": "0d60ffd5-f9f1-4554-8c96-ebd6b7c63a92",
   "metadata": {},
   "outputs": [
    {
     "data": {
      "text/plain": [
       "30227"
      ]
     },
     "execution_count": 13,
     "metadata": {},
     "output_type": "execute_result"
    }
   ],
   "source": [
    "len(csv_pneu)"
   ]
  },
  {
   "cell_type": "code",
   "execution_count": 14,
   "id": "c3321992-2c0f-4ad2-bb11-a92ca36f082b",
   "metadata": {},
   "outputs": [
    {
     "data": {
      "text/plain": [
       "9555"
      ]
     },
     "execution_count": 14,
     "metadata": {},
     "output_type": "execute_result"
    }
   ],
   "source": [
    "len(patients['pneumonia'])"
   ]
  },
  {
   "cell_type": "code",
   "execution_count": 15,
   "id": "da9118fe-14dc-4ae3-85cf-6d4c29fae444",
   "metadata": {},
   "outputs": [
    {
     "data": {
      "text/plain": [
       "8851"
      ]
     },
     "execution_count": 15,
     "metadata": {},
     "output_type": "execute_result"
    }
   ],
   "source": [
    "len(patients['normal'])"
   ]
  },
  {
   "cell_type": "code",
   "execution_count": 16,
   "id": "9996a717-a9f7-4dba-b609-59feb1fb31a0",
   "metadata": {},
   "outputs": [
    {
     "data": {
      "text/plain": [
       "array([1, 2, 3, 4], dtype=int64)"
      ]
     },
     "execution_count": 16,
     "metadata": {},
     "output_type": "execute_result"
    }
   ],
   "source": [
    "names, counts = np.unique(patients['pneumonia'], return_counts = True)\n",
    "np.unique(counts)"
   ]
  },
  {
   "cell_type": "code",
   "execution_count": 14,
   "id": "3696276a-47c4-43dc-b697-30a4a34c0e1b",
   "metadata": {},
   "outputs": [
    {
     "name": "stdout",
     "output_type": "stream",
     "text": [
      "test count:  {'normal': 885, 'pneumonia': 1004}\n",
      "train count:  {'normal': 18158, 'pneumonia': 7023}\n"
     ]
    }
   ],
   "source": [
    "for key in patients.keys():\n",
    "    arr = np.array(patients[key])\n",
    "    if arr.size == 0:\n",
    "        continue\n",
    "    # split by patients \n",
    "    # num_diff_patients = len(np.unique(arr))\n",
    "    # num_test = max(1, round(split*num_diff_patients))\n",
    "    test_patients = np.load('../Original Data/COVIDNet/data/rsna_test_patients_{}.npy'.format(key)) # random.sample(list(arr), num_test), download the .npy files from the repo.\n",
    "    # np.save('rsna_test_patients_{}.npy'.format(key), np.array(test_patients))\n",
    "    for patient in arr:\n",
    "        if patient not in patient_imgpath:\n",
    "            patient_imgpath[patient] = [patient]\n",
    "        else:\n",
    "            continue  # skip since image has already been written\n",
    "                \n",
    "        ds = dicom.dcmread(os.path.join(rsna_datapath, rsna_imgpath, patient + '.dcm'))\n",
    "        pixel_array_numpy = ds.pixel_array\n",
    "        imgname = patient + '.png'\n",
    "        if patient in test_patients:\n",
    "            cv2.imwrite(os.path.join(savepath, 'test', key, imgname), pixel_array_numpy)\n",
    "            test.append([patient, imgname, key, 'rsna'])\n",
    "            test_count[key] += 1\n",
    "        else:\n",
    "            cv2.imwrite(os.path.join(savepath, 'train', key, imgname), pixel_array_numpy)\n",
    "            train.append([patient, imgname, key, 'rsna'])\n",
    "            train_count[key] += 1\n",
    "\n",
    "print('test count: ', test_count)\n",
    "print('train count: ', train_count)"
   ]
  },
  {
   "cell_type": "code",
   "execution_count": 31,
   "id": "e2c18766-0627-4dbb-9948-c9b81b44a9dd",
   "metadata": {},
   "outputs": [
    {
     "data": {
      "text/plain": [
       "885"
      ]
     },
     "execution_count": 31,
     "metadata": {},
     "output_type": "execute_result"
    }
   ],
   "source": [
    "test_patients = np.load('../Original Data/COVIDNet/data/rsna_test_patients_{}.npy'.format('normal'))\n",
    "len(test_patients)"
   ]
  },
  {
   "cell_type": "code",
   "execution_count": 41,
   "id": "8e88c126-c74f-4d90-ba64-86dd4ee2b07c",
   "metadata": {},
   "outputs": [
    {
     "data": {
      "text/plain": [
       "601"
      ]
     },
     "execution_count": 41,
     "metadata": {},
     "output_type": "execute_result"
    }
   ],
   "source": [
    "test_patients = np.load('../Original Data/COVIDNet/data/rsna_test_patients_{}.npy'.format('pneumonia'))\n",
    "len(test_patients)"
   ]
  }
 ],
 "metadata": {
  "kernelspec": {
   "display_name": "Python 3",
   "language": "python",
   "name": "python3"
  },
  "language_info": {
   "codemirror_mode": {
    "name": "ipython",
    "version": 3
   },
   "file_extension": ".py",
   "mimetype": "text/x-python",
   "name": "python",
   "nbconvert_exporter": "python",
   "pygments_lexer": "ipython3",
   "version": "3.8.8"
  }
 },
 "nbformat": 4,
 "nbformat_minor": 5
}
