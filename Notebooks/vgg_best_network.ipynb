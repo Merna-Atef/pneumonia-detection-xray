{
 "cells": [
  {
   "cell_type": "markdown",
   "id": "b6c5a6c0-d068-49a6-b835-dee05d897729",
   "metadata": {},
   "source": [
    "**KARMANY DATASET ADDED + DATA AUGMENTED**"
   ]
  },
  {
   "cell_type": "markdown",
   "id": "7d2cd3aa-e5d6-46e0-ae2c-c97e1eff6d69",
   "metadata": {},
   "source": [
    "# Imports"
   ]
  },
  {
   "cell_type": "code",
   "execution_count": 1,
   "id": "7e4ffd90-2b27-4702-b915-cc9acffdc6c1",
   "metadata": {},
   "outputs": [],
   "source": [
    "from tensorflow.keras.applications.inception_v3 import InceptionV3\n",
    "from tensorflow.keras.preprocessing import image\n",
    "from tensorflow.keras.models import Model\n",
    "from tensorflow.keras.layers import Dense, GlobalAveragePooling2D\n",
    "import tensorflow as tf\n",
    "from tensorflow.keras import layers\n",
    "import pathlib\n",
    "import matplotlib.pyplot as plt\n",
    "import numpy as np\n",
    "from sklearn.metrics import accuracy_score\n",
    "import os\n",
    "import cv2"
   ]
  },
  {
   "cell_type": "markdown",
   "id": "1f722dff-4fbd-4e21-b2c6-5833360a19f0",
   "metadata": {},
   "source": [
    "# Parameters"
   ]
  },
  {
   "cell_type": "code",
   "execution_count": 2,
   "id": "70bab14c-c402-42e7-a8b5-865be7186ba0",
   "metadata": {},
   "outputs": [],
   "source": [
    "input_size = (256, 256, 3)\n",
    "img_height, img_width = (256, 256)\n",
    "n_classes = 1\n",
    "batch_size = 32\n",
    "epochs = 10"
   ]
  },
  {
   "cell_type": "markdown",
   "id": "6c6e14b0-a717-4c37-93fc-0f594c558171",
   "metadata": {
    "tags": [],
    "toc-hr-collapsed": true
   },
   "source": [
    "# Data Generator"
   ]
  },
  {
   "cell_type": "code",
   "execution_count": 3,
   "id": "d977a6f4-3f55-456e-abd1-c7b2d3027764",
   "metadata": {},
   "outputs": [],
   "source": [
    "data_dir = '../Data/train'\n",
    "data_dir = pathlib.Path(data_dir)"
   ]
  },
  {
   "cell_type": "markdown",
   "id": "3d5e18ed-1967-4017-af07-d03664b25cdd",
   "metadata": {
    "tags": [],
    "toc-hr-collapsed": true
   },
   "source": [
    "## Augmented Data"
   ]
  },
  {
   "cell_type": "code",
   "execution_count": null,
   "id": "8eac36f4-76d1-406c-8b90-2f62f68a8b94",
   "metadata": {},
   "outputs": [],
   "source": [
    "train_ds = tf.keras.utils.image_dataset_from_directory(\n",
    "  data_dir,\n",
    "  validation_split=0.2,\n",
    "  subset=\"training\",\n",
    "  seed=123,\n",
    "  image_size=(img_height, img_width),\n",
    "  color_mode='rgb',\n",
    "  batch_size=batch_size)"
   ]
  },
  {
   "cell_type": "code",
   "execution_count": 19,
   "id": "bcbdb8b2-1b9c-4f73-86e8-6a1cc0989a7d",
   "metadata": {},
   "outputs": [],
   "source": [
    "data_augmentation = tf.keras.Sequential([\n",
    "    layers.RandomFlip(\"horizontal\"),\n",
    "    layers.RandomContrast(0.2, seed=5)\n",
    "])"
   ]
  },
  {
   "cell_type": "code",
   "execution_count": 24,
   "id": "097a552a-d872-4ff7-b260-6d5445e61955",
   "metadata": {},
   "outputs": [],
   "source": [
    "aug_path = '../Data/train_augmented/'\n",
    "\n",
    "pneu_path = aug_path + 'pneumonia'\n",
    "if not os.path.exists(pneu_path):\n",
    "    os.makedirs(pneu_path)\n",
    "\n",
    "normal_path = aug_path + 'normal'\n",
    "if not os.path.exists(normal_path):\n",
    "    os.makedirs(normal_path) "
   ]
  },
  {
   "cell_type": "code",
   "execution_count": 25,
   "id": "33adad67-f727-4dd1-90e7-e61fb0a1dbd4",
   "metadata": {},
   "outputs": [],
   "source": [
    "batch_n = 0\n",
    "for x, y in train_ds:\n",
    "    batch_n += 1\n",
    "    aug_x = data_augmentation(x)\n",
    "    y = np.array(y)\n",
    "    aug_x = np.array(aug_x)\n",
    "    x = np.array(x)\n",
    "    for i in range(len(y)):\n",
    "        if y[i] == 0:\n",
    "            path = normal_path\n",
    "        else:\n",
    "            path = pneu_path\n",
    "        \n",
    "        original_img = x[i,:,:,0]\n",
    "        \n",
    "        aug_img = aug_x[i,:,:,0]\n",
    "        \n",
    "        cv2.imwrite(path +'/' + str(batch_n) + '_' + str(i) + '_original.png', original_img)\n",
    "        cv2.imwrite(path +'/' + str(batch_n) + '_' + str(i) + '_augmented.png', aug_img)  "
   ]
  },
  {
   "cell_type": "markdown",
   "id": "28c47ea7-1797-47ea-b37e-b955d7d82f0c",
   "metadata": {
    "tags": [],
    "toc-hr-collapsed": true
   },
   "source": [
    "## Augmented Data Path"
   ]
  },
  {
   "cell_type": "code",
   "execution_count": 4,
   "id": "dcb785e4-78f4-4b7e-9343-84c572e6a949",
   "metadata": {},
   "outputs": [],
   "source": [
    "data_dir = '../Data/train_augmented'\n",
    "data_dir = pathlib.Path(data_dir)"
   ]
  },
  {
   "cell_type": "markdown",
   "id": "27df7cce-6f5c-471f-ad27-2f82e27b64f7",
   "metadata": {
    "tags": [],
    "toc-hr-collapsed": true
   },
   "source": [
    "## Preprocessed Data"
   ]
  },
  {
   "cell_type": "code",
   "execution_count": 5,
   "id": "92bf5b74-9414-41f0-871e-977474385be8",
   "metadata": {},
   "outputs": [
    {
     "name": "stdout",
     "output_type": "stream",
     "text": [
      "Found 48662 files belonging to 2 classes.\n",
      "Using 38930 files for training.\n"
     ]
    }
   ],
   "source": [
    "train_ds = tf.keras.utils.image_dataset_from_directory(\n",
    "  data_dir,\n",
    "  validation_split=0.2,\n",
    "  subset=\"training\",\n",
    "  seed=123,\n",
    "  image_size=(img_height, img_width),\n",
    "  color_mode='rgb',\n",
    "  batch_size=batch_size)"
   ]
  },
  {
   "cell_type": "code",
   "execution_count": 6,
   "id": "48662ab5-eda7-4ec6-9b90-23b064067ef4",
   "metadata": {},
   "outputs": [
    {
     "name": "stdout",
     "output_type": "stream",
     "text": [
      "Found 48662 files belonging to 2 classes.\n",
      "Using 9732 files for validation.\n"
     ]
    }
   ],
   "source": [
    "val_ds = tf.keras.utils.image_dataset_from_directory(\n",
    "  data_dir,\n",
    "  validation_split=0.2,\n",
    "  subset=\"validation\",\n",
    "  seed=123,\n",
    "  image_size=(img_height, img_width),\n",
    "  color_mode='rgb',\n",
    "  batch_size=batch_size)"
   ]
  },
  {
   "cell_type": "code",
   "execution_count": 7,
   "id": "400b9af5-d309-499b-affd-ec91fc5fbc60",
   "metadata": {},
   "outputs": [
    {
     "name": "stdout",
     "output_type": "stream",
     "text": [
      "['normal', 'pneumonia']\n"
     ]
    }
   ],
   "source": [
    "class_names = train_ds.class_names\n",
    "print(class_names)"
   ]
  },
  {
   "cell_type": "code",
   "execution_count": 8,
   "id": "15197443-5a11-423d-80e6-78eff0d3ba69",
   "metadata": {},
   "outputs": [],
   "source": [
    "AUTOTUNE = tf.data.AUTOTUNE\n",
    "\n",
    "train_ds = train_ds.cache().shuffle(1000).prefetch(buffer_size=AUTOTUNE)\n",
    "val_ds = val_ds.cache().prefetch(buffer_size=AUTOTUNE)"
   ]
  },
  {
   "cell_type": "code",
   "execution_count": 9,
   "id": "b89a6319-0d4b-491b-8e7f-2f447ce9e931",
   "metadata": {},
   "outputs": [],
   "source": [
    "def preprocess_images(img, flag='default'):\n",
    "    if flag == 'default':\n",
    "        # Scale to (-1,1)\n",
    "        img = tf.keras.applications.inception_v3.preprocess_input(img)\n",
    "    elif flag == 'vgg':\n",
    "        # convert the input images from RGB to BGR,\n",
    "        #then will zero-center each color channel with respect to the ImageNet dataset,\n",
    "        #without scaling.\n",
    "        img = tf.keras.applications.vgg16.preprocess_input(img)\n",
    "    elif flag == 'resnet':\n",
    "        # convert the input images from RGB to BGR,\n",
    "        #then will zero-center each color channel with respect to the ImageNet dataset,\n",
    "        #without scaling.\n",
    "        img = tf.keras.applications.resnet.preprocess_input(img)\n",
    "    elif flag == 'nothing':\n",
    "        return img\n",
    "    return img"
   ]
  },
  {
   "cell_type": "code",
   "execution_count": 10,
   "id": "9b09cff9-5af1-49bf-a754-f22dc68589da",
   "metadata": {},
   "outputs": [],
   "source": [
    "# VGG-16 and 19\n",
    "train_ds = train_ds.map(lambda x, y: (preprocess_images(x, 'vgg'), y))\n",
    "val_ds = val_ds.map(lambda x, y: (preprocess_images(x, 'vgg'), y))"
   ]
  },
  {
   "cell_type": "code",
   "execution_count": null,
   "id": "8f4d5c98-80f9-4009-ad7f-fb2328c2636d",
   "metadata": {},
   "outputs": [],
   "source": [
    "train_ds = train_ds.map(lambda x, y: (preprocess_images(x), y))\n",
    "val_ds = val_ds.map(lambda x, y: (preprocess_images(x), y))"
   ]
  },
  {
   "cell_type": "code",
   "execution_count": null,
   "id": "0a80cbba-bd54-455a-a700-e956b811ea42",
   "metadata": {},
   "outputs": [],
   "source": [
    "# RESNET\n",
    "train_ds = train_ds.map(lambda x, y: (preprocess_images(x, 'res'), y))\n",
    "val_ds = val_ds.map(lambda x, y: (preprocess_images(x, 'res'), y))"
   ]
  },
  {
   "cell_type": "code",
   "execution_count": 10,
   "id": "4b336021-6da5-46f7-9537-3a876d319e1a",
   "metadata": {},
   "outputs": [],
   "source": [
    "# MobileNet\n",
    "train_ds = train_ds.map(lambda x, y: (preprocess_images(x, 'nothing'), y))\n",
    "val_ds = val_ds.map(lambda x, y: (preprocess_images(x, 'nothing'), y))"
   ]
  },
  {
   "cell_type": "markdown",
   "id": "4621b20d-da48-4a84-8b9b-c2fba54736c2",
   "metadata": {
    "tags": [],
    "toc-hr-collapsed": true
   },
   "source": [
    "## Unprocessed Data"
   ]
  },
  {
   "cell_type": "code",
   "execution_count": null,
   "id": "81ced654-8d7c-4f7b-9533-109f515dd844",
   "metadata": {},
   "outputs": [],
   "source": [
    "train_original_ds = tf.keras.utils.image_dataset_from_directory(\n",
    "  data_dir,\n",
    "  validation_split=0.2,\n",
    "  subset=\"training\",\n",
    "  seed=123,\n",
    "  image_size=(img_height, img_width),\n",
    "  color_mode='rgb',\n",
    "  batch_size=batch_size)"
   ]
  },
  {
   "cell_type": "code",
   "execution_count": null,
   "id": "42c4f5cf-0914-41b5-976c-8d921182b133",
   "metadata": {},
   "outputs": [],
   "source": [
    "val_original_ds = tf.keras.utils.image_dataset_from_directory(\n",
    "  data_dir,\n",
    "  validation_split=0.2,\n",
    "  subset=\"validation\",\n",
    "  seed=123,\n",
    "  image_size=(img_height, img_width),\n",
    "  color_mode='rgb',\n",
    "  batch_size=batch_size)"
   ]
  },
  {
   "cell_type": "code",
   "execution_count": null,
   "id": "525326e3-96d8-4c00-8f5b-aab3de8ad517",
   "metadata": {},
   "outputs": [],
   "source": [
    "class_names = train_original_ds.class_names\n",
    "print(class_names)"
   ]
  },
  {
   "cell_type": "code",
   "execution_count": null,
   "id": "2d7e4e22-7dd9-42ad-930e-96aa9bd76de0",
   "metadata": {},
   "outputs": [],
   "source": [
    "AUTOTUNE = tf.data.AUTOTUNE\n",
    "\n",
    "train_original_ds = train_original_ds.cache().shuffle(1000).prefetch(buffer_size=AUTOTUNE)\n",
    "val_original_ds = val_original_ds.cache().prefetch(buffer_size=AUTOTUNE)"
   ]
  },
  {
   "cell_type": "markdown",
   "id": "6579b4e3-885a-424f-8858-4e9d5145f0b3",
   "metadata": {
    "tags": [],
    "toc-hr-collapsed": true
   },
   "source": [
    "# VGG16"
   ]
  },
  {
   "cell_type": "markdown",
   "id": "da5af115-ffae-4fd6-b163-fc1db3198c50",
   "metadata": {},
   "source": [
    "## Train"
   ]
  },
  {
   "cell_type": "code",
   "execution_count": 11,
   "id": "2277883c-0c47-4bd9-8935-b3d8ce63788a",
   "metadata": {},
   "outputs": [],
   "source": [
    "# create the base pre-trained model\n",
    "\n",
    "base_model_vgg = tf.keras.applications.VGG16(weights='imagenet',\n",
    "                                                     include_top=False, input_shape = input_size)\n",
    "\n",
    "# add a global spatial average pooling layer\n",
    "x = base_model_vgg.output\n",
    "x = GlobalAveragePooling2D()(x)\n",
    "# let's add a fully-connected layer\n",
    "x = Dense(1024, activation='relu')(x)\n",
    "# and a logistic layer -- let's say we have 2 classes\n",
    "predictions = Dense(n_classes, activation='sigmoid')(x)"
   ]
  },
  {
   "cell_type": "code",
   "execution_count": 12,
   "id": "a552e81d-c332-47ba-a212-f299b42693eb",
   "metadata": {},
   "outputs": [],
   "source": [
    "# this is the model we will train\n",
    "model_vgg = Model(inputs=base_model_vgg.input, outputs=predictions)"
   ]
  },
  {
   "cell_type": "code",
   "execution_count": null,
   "id": "8136f868-3fd3-42f6-8751-5c8af7b45dcd",
   "metadata": {
    "tags": []
   },
   "outputs": [],
   "source": [
    "model_vgg.summary()"
   ]
  },
  {
   "cell_type": "code",
   "execution_count": 13,
   "id": "6d2302e9-0de9-4952-980b-193a4d1a3671",
   "metadata": {},
   "outputs": [
    {
     "name": "stdout",
     "output_type": "stream",
     "text": [
      "Epoch 1/10\n",
      "1217/1217 [==============================] - 152s 105ms/step - loss: 0.2137 - accuracy: 0.9240 - val_loss: 0.1427 - val_accuracy: 0.9455\n",
      "Epoch 2/10\n",
      "1217/1217 [==============================] - 119s 98ms/step - loss: 0.1508 - accuracy: 0.9440 - val_loss: 0.1363 - val_accuracy: 0.9513\n",
      "Epoch 3/10\n",
      "1217/1217 [==============================] - 120s 98ms/step - loss: 0.1332 - accuracy: 0.9511 - val_loss: 0.1328 - val_accuracy: 0.9512\n",
      "Epoch 4/10\n",
      "1217/1217 [==============================] - 119s 98ms/step - loss: 0.1235 - accuracy: 0.9540 - val_loss: 0.1267 - val_accuracy: 0.9514\n",
      "Epoch 5/10\n",
      "1217/1217 [==============================] - 123s 101ms/step - loss: 0.1107 - accuracy: 0.9585 - val_loss: 0.1207 - val_accuracy: 0.9537\n",
      "Epoch 6/10\n",
      "1217/1217 [==============================] - 123s 101ms/step - loss: 0.0999 - accuracy: 0.9641 - val_loss: 0.1093 - val_accuracy: 0.9578\n",
      "Epoch 7/10\n",
      "1217/1217 [==============================] - 118s 97ms/step - loss: 0.0912 - accuracy: 0.9666 - val_loss: 0.1255 - val_accuracy: 0.9552\n",
      "Epoch 8/10\n",
      "1217/1217 [==============================] - 124s 102ms/step - loss: 0.0805 - accuracy: 0.9703 - val_loss: 0.1079 - val_accuracy: 0.9594\n",
      "Epoch 9/10\n",
      "1217/1217 [==============================] - 126s 104ms/step - loss: 0.0680 - accuracy: 0.9754 - val_loss: 0.1036 - val_accuracy: 0.9632\n",
      "Epoch 10/10\n",
      "1217/1217 [==============================] - 122s 100ms/step - loss: 0.0631 - accuracy: 0.9769 - val_loss: 0.1062 - val_accuracy: 0.9620\n"
     ]
    }
   ],
   "source": [
    "# first: train only the top layers (which were randomly initialized)\n",
    "# i.e. freeze all convolutional InceptionV3 layers\n",
    "for layer in base_model_vgg.layers:\n",
    "    layer.trainable = False\n",
    "\n",
    "# compile the model (should be done *after* setting layers to non-trainable)\n",
    "model_vgg.compile(optimizer='adam', \n",
    "              loss=tf.keras.losses.BinaryCrossentropy(from_logits=False),\n",
    "              metrics=['accuracy'])\n",
    "\n",
    "# train the model on the new data for a few epochs\n",
    "history = model_vgg.fit(\n",
    "  train_ds,\n",
    "  validation_data=val_ds,\n",
    "  epochs=epochs\n",
    ")\n"
   ]
  },
  {
   "cell_type": "code",
   "execution_count": 14,
   "id": "5fcb07dc-e909-49be-a108-54f8508bac66",
   "metadata": {
    "tags": []
   },
   "outputs": [
    {
     "data": {
      "image/png": "[encoded data removed]",
      "text/plain": [
       "<Figure size 432x288 with 1 Axes>"
      ]
     },
     "metadata": {
      "needs_background": "light"
     },
     "output_type": "display_data"
    }
   ],
   "source": [
    "#plot the training and validation accuracy and loss at each epoch\n",
    "loss = history.history['loss']\n",
    "val_loss = history.history['val_loss']\n",
    "epochs = range(1, len(loss) + 1)\n",
    "plt.plot(epochs, loss, 'y', label='Training loss')\n",
    "plt.plot(epochs, val_loss, 'r', label='Validation loss')\n",
    "plt.title('Training and validation loss')\n",
    "plt.xlabel('Epochs')\n",
    "plt.ylabel('Loss')\n",
    "plt.ylim(0, 1)\n",
    "plt.legend()\n",
    "plt.show()"
   ]
  },
  {
   "cell_type": "code",
   "execution_count": 15,
   "id": "d4ad9eb5-3492-4cf0-8122-70fe96f7ba19",
   "metadata": {
    "tags": []
   },
   "outputs": [
    {
     "data": {
      "image/png": "[encoded data removed]",
      "text/plain": [
       "<Figure size 432x288 with 1 Axes>"
      ]
     },
     "metadata": {
      "needs_background": "light"
     },
     "output_type": "display_data"
    }
   ],
   "source": [
    "acc = history.history['accuracy']\n",
    "val_acc = history.history['val_accuracy']\n",
    "plt.plot(epochs, acc, 'y', label='Training Accuracy')\n",
    "plt.plot(epochs, val_acc, 'r', label='Validation Accuracy')\n",
    "plt.title('Training and validation Accuracy')\n",
    "plt.xlabel('Epochs')\n",
    "plt.ylabel('Accuracy')\n",
    "plt.ylim(0, 1)\n",
    "plt.legend()\n",
    "plt.show()"
   ]
  },
  {
   "cell_type": "code",
   "execution_count": 35,
   "id": "91682ca7-dade-474c-9eb3-febcde7fd9b3",
   "metadata": {
    "collapsed": true,
    "jupyter": {
     "outputs_hidden": true
    },
    "tags": []
   },
   "outputs": [
    {
     "name": "stdout",
     "output_type": "stream",
     "text": [
      "0 input_1\n",
      "1 block1_conv1\n",
      "2 block1_conv2\n",
      "3 block1_pool\n",
      "4 block2_conv1\n",
      "5 block2_conv2\n",
      "6 block2_pool\n",
      "7 block3_conv1\n",
      "8 block3_conv2\n",
      "9 block3_conv3\n",
      "10 block3_pool\n",
      "11 block4_conv1\n",
      "12 block4_conv2\n",
      "13 block4_conv3\n",
      "14 block4_pool\n",
      "15 block5_conv1\n",
      "16 block5_conv2\n",
      "17 block5_conv3\n",
      "18 block5_pool\n"
     ]
    }
   ],
   "source": [
    "# at this point, the top layers are well trained and we can start fine-tuning\n",
    "# convolutional layers from inception V3. We will freeze the bottom N layers\n",
    "# and train the remaining top layers.\n",
    "# let's visualize layer names and layer indices to see how many layers\n",
    "# we should freeze:\n",
    "for i, layer in enumerate(base_model_vgg.layers):\n",
    "   print(i, layer.name)\n"
   ]
  },
  {
   "cell_type": "code",
   "execution_count": 16,
   "id": "14ed2e9c-2eda-4141-9b2e-0d0b2c62e362",
   "metadata": {},
   "outputs": [],
   "source": [
    "# we chose to train the top 2 inception blocks, i.e. we will freeze\n",
    "# the first 249 layers and unfreeze the rest:\n",
    "for layer in model_vgg.layers[:11]:\n",
    "   layer.trainable = False\n",
    "for layer in model_vgg.layers[11:]:\n",
    "   layer.trainable = True"
   ]
  },
  {
   "cell_type": "code",
   "execution_count": 17,
   "id": "d054f026-f315-4878-b5b0-7b35a4e4c9b7",
   "metadata": {},
   "outputs": [],
   "source": [
    "# we need to recompile the model for these modifications to take effect\n",
    "# we use SGD with a low learning rate\n",
    "\n",
    "model_vgg.compile(\n",
    "    optimizer=tf.keras.optimizers.SGD(learning_rate=0.0001, momentum=0.9),\n",
    "              loss=tf.keras.losses.BinaryCrossentropy(from_logits=False),\n",
    "              metrics=['accuracy'])"
   ]
  },
  {
   "cell_type": "code",
   "execution_count": 19,
   "id": "bdd2afcb-701a-4636-835f-696f623fb09d",
   "metadata": {
    "tags": []
   },
   "outputs": [
    {
     "name": "stdout",
     "output_type": "stream",
     "text": [
      "Epoch 1/10\n",
      "1217/1217 [==============================] - 170s 138ms/step - loss: 0.0657 - accuracy: 0.9767 - val_loss: 0.0619 - val_accuracy: 0.9767\n",
      "Epoch 2/10\n",
      "1217/1217 [==============================] - 165s 135ms/step - loss: 0.0307 - accuracy: 0.9893 - val_loss: 0.0574 - val_accuracy: 0.9810\n",
      "Epoch 3/10\n",
      "1217/1217 [==============================] - 168s 138ms/step - loss: 0.0186 - accuracy: 0.9939 - val_loss: 0.0503 - val_accuracy: 0.9833\n",
      "Epoch 4/10\n",
      "1217/1217 [==============================] - 165s 136ms/step - loss: 0.0100 - accuracy: 0.9971 - val_loss: 0.0648 - val_accuracy: 0.9823\n",
      "Epoch 5/10\n",
      "1217/1217 [==============================] - 167s 137ms/step - loss: 0.0043 - accuracy: 0.9990 - val_loss: 0.0537 - val_accuracy: 0.9855\n",
      "Epoch 6/10\n",
      "1217/1217 [==============================] - 166s 137ms/step - loss: 0.0020 - accuracy: 0.9998 - val_loss: 0.0545 - val_accuracy: 0.9859\n",
      "Epoch 7/10\n",
      "1217/1217 [==============================] - 165s 136ms/step - loss: 8.2841e-04 - accuracy: 1.0000 - val_loss: 0.0606 - val_accuracy: 0.9856\n",
      "Epoch 8/10\n",
      "1217/1217 [==============================] - 172s 141ms/step - loss: 5.1020e-04 - accuracy: 1.0000 - val_loss: 0.0644 - val_accuracy: 0.9856\n",
      "Epoch 9/10\n",
      "1217/1217 [==============================] - 169s 139ms/step - loss: 3.4857e-04 - accuracy: 1.0000 - val_loss: 0.0625 - val_accuracy: 0.9855\n",
      "Epoch 10/10\n",
      "1217/1217 [==============================] - 167s 137ms/step - loss: 2.7884e-04 - accuracy: 1.0000 - val_loss: 0.0669 - val_accuracy: 0.9858\n"
     ]
    }
   ],
   "source": [
    "# we train our model again (this time fine-tuning the top 2 inception blocks\n",
    "# alongside the top Dense layers\n",
    "# train the model on the new data for a few epochs\n",
    "history = model_vgg.fit(\n",
    "  train_ds,\n",
    "  validation_data=val_ds,\n",
    "  epochs=10\n",
    ")"
   ]
  },
  {
   "cell_type": "code",
   "execution_count": 20,
   "id": "5f565a22-28d9-4709-a654-95bbd694d1f4",
   "metadata": {
    "tags": []
   },
   "outputs": [
    {
     "data": {
      "image/png": "[encoded data removed]",
      "text/plain": [
       "<Figure size 432x288 with 1 Axes>"
      ]
     },
     "metadata": {
      "needs_background": "light"
     },
     "output_type": "display_data"
    }
   ],
   "source": [
    "#plot the training and validation accuracy and loss at each epoch\n",
    "loss = history.history['loss']\n",
    "val_loss = history.history['val_loss']\n",
    "epochs = range(1, len(loss) + 1)\n",
    "plt.plot(epochs, loss, 'y', label='Training loss')\n",
    "plt.plot(epochs, val_loss, 'r', label='Validation loss')\n",
    "plt.title('Training and validation loss')\n",
    "plt.xlabel('Epochs')\n",
    "plt.ylabel('Loss')\n",
    "plt.ylim(0,1)\n",
    "plt.legend()\n",
    "plt.show()"
   ]
  },
  {
   "cell_type": "code",
   "execution_count": 21,
   "id": "0bf8a236-5d0d-47ea-9388-b94279b13817",
   "metadata": {
    "tags": []
   },
   "outputs": [
    {
     "data": {
      "image/png": "[encoded data removed]",
      "text/plain": [
       "<Figure size 432x288 with 1 Axes>"
      ]
     },
     "metadata": {
      "needs_background": "light"
     },
     "output_type": "display_data"
    }
   ],
   "source": [
    "acc = history.history['accuracy']\n",
    "val_acc = history.history['val_accuracy']\n",
    "plt.plot(epochs, acc, 'y', label='Training Accuracy')\n",
    "plt.plot(epochs, val_acc, 'r', label='Validation Accuracy')\n",
    "plt.title('Training and validation Accuracy')\n",
    "plt.xlabel('Epochs')\n",
    "plt.ylabel('Accuracy')\n",
    "plt.ylim(0,1)\n",
    "plt.legend()\n",
    "plt.show()"
   ]
  },
  {
   "cell_type": "code",
   "execution_count": null,
   "id": "6a384c3e-7d3b-4f05-b211-ef1b2edfed1c",
   "metadata": {},
   "outputs": [],
   "source": []
  },
  {
   "cell_type": "markdown",
   "id": "b85307bc-25e0-4e0a-b9d8-d08b75781877",
   "metadata": {},
   "source": [
    "## Test"
   ]
  },
  {
   "cell_type": "code",
   "execution_count": 26,
   "id": "0a69347a-d582-4c56-9f04-8446085c30ba",
   "metadata": {},
   "outputs": [
    {
     "name": "stdout",
     "output_type": "stream",
     "text": [
      "Found 2513 files belonging to 2 classes.\n"
     ]
    }
   ],
   "source": [
    "# Now we get a test dataset.\n",
    "test_dir = '../Data/test'\n",
    "test_dir = pathlib.Path(test_dir)\n",
    "\n",
    "test_ds = tf.keras.utils.image_dataset_from_directory(\n",
    "  test_dir,\n",
    "  seed=123,\n",
    "  image_size=(img_height, img_width),\n",
    "  color_mode='rgb',\n",
    "  batch_size=batch_size)\n",
    "\n",
    "test_ds = test_ds.map(lambda x, y: (preprocess_images(x,'vgg'), y))"
   ]
  },
  {
   "cell_type": "code",
   "execution_count": 27,
   "id": "e5634ec0-c9e8-43d4-8331-75ec45eb158d",
   "metadata": {},
   "outputs": [
    {
     "name": "stdout",
     "output_type": "stream",
     "text": [
      "Evaluate\n",
      "79/79 [==============================] - 7s 81ms/step - loss: 0.8615 - accuracy: 0.9053\n"
     ]
    },
    {
     "data": {
      "text/plain": [
       "{'loss': 0.8615303039550781, 'accuracy': 0.9052924513816833}"
      ]
     },
     "execution_count": 27,
     "metadata": {},
     "output_type": "execute_result"
    }
   ],
   "source": [
    "# You can also evaluate or predict on a dataset.\n",
    "print(\"Evaluate\")\n",
    "result = model_vgg.evaluate(test_ds)\n",
    "dict(zip(model_vgg.metrics_names, result))"
   ]
  },
  {
   "cell_type": "code",
   "execution_count": 28,
   "id": "07d954ed-858c-4525-9c6d-0bb4cc84a510",
   "metadata": {},
   "outputs": [],
   "source": [
    "scores = []\n",
    "for x_val, y_val in test_ds:\n",
    "    y_pred = model_vgg.predict(x_val)\n",
    "    normal = y_pred < 0.5\n",
    "    y_pred[normal] = 0\n",
    "    y_pred[~normal] = 1\n",
    "    scores.append(accuracy_score(y_pred,y_val))"
   ]
  },
  {
   "cell_type": "code",
   "execution_count": 29,
   "id": "bd5c09f3-5a31-4bbf-8451-bc3e14fe4c73",
   "metadata": {},
   "outputs": [
    {
     "data": {
      "text/plain": [
       "0.9055053983618764"
      ]
     },
     "execution_count": 29,
     "metadata": {},
     "output_type": "execute_result"
    }
   ],
   "source": [
    "np.mean(np.array(scores))"
   ]
  },
  {
   "cell_type": "code",
   "execution_count": 30,
   "id": "398ddf1f-0220-4adc-8620-63bdc81df05e",
   "metadata": {},
   "outputs": [
    {
     "name": "stdout",
     "output_type": "stream",
     "text": [
      "INFO:tensorflow:Assets written to: saved_models/vgg16_aug\\assets\n"
     ]
    }
   ],
   "source": [
    "# Save the entire model as a SavedModel.\n",
    "!mkdir -p saved_models\n",
    "model_vgg.save('saved_models/vgg16_aug')"
   ]
  },
  {
   "cell_type": "code",
   "execution_count": 31,
   "id": "00796f31-ac51-4cf6-bf83-5e51eab7d69f",
   "metadata": {
    "collapsed": true,
    "jupyter": {
     "outputs_hidden": true
    },
    "tags": []
   },
   "outputs": [
    {
     "name": "stdout",
     "output_type": "stream",
     "text": [
      "Model: \"model\"\n",
      "_________________________________________________________________\n",
      "Layer (type)                 Output Shape              Param #   \n",
      "=================================================================\n",
      "input_1 (InputLayer)         [(None, 256, 256, 3)]     0         \n",
      "_________________________________________________________________\n",
      "block1_conv1 (Conv2D)        (None, 256, 256, 64)      1792      \n",
      "_________________________________________________________________\n",
      "block1_conv2 (Conv2D)        (None, 256, 256, 64)      36928     \n",
      "_________________________________________________________________\n",
      "block1_pool (MaxPooling2D)   (None, 128, 128, 64)      0         \n",
      "_________________________________________________________________\n",
      "block2_conv1 (Conv2D)        (None, 128, 128, 128)     73856     \n",
      "_________________________________________________________________\n",
      "block2_conv2 (Conv2D)        (None, 128, 128, 128)     147584    \n",
      "_________________________________________________________________\n",
      "block2_pool (MaxPooling2D)   (None, 64, 64, 128)       0         \n",
      "_________________________________________________________________\n",
      "block3_conv1 (Conv2D)        (None, 64, 64, 256)       295168    \n",
      "_________________________________________________________________\n",
      "block3_conv2 (Conv2D)        (None, 64, 64, 256)       590080    \n",
      "_________________________________________________________________\n",
      "block3_conv3 (Conv2D)        (None, 64, 64, 256)       590080    \n",
      "_________________________________________________________________\n",
      "block3_pool (MaxPooling2D)   (None, 32, 32, 256)       0         \n",
      "_________________________________________________________________\n",
      "block4_conv1 (Conv2D)        (None, 32, 32, 512)       1180160   \n",
      "_________________________________________________________________\n",
      "block4_conv2 (Conv2D)        (None, 32, 32, 512)       2359808   \n",
      "_________________________________________________________________\n",
      "block4_conv3 (Conv2D)        (None, 32, 32, 512)       2359808   \n",
      "_________________________________________________________________\n",
      "block4_pool (MaxPooling2D)   (None, 16, 16, 512)       0         \n",
      "_________________________________________________________________\n",
      "block5_conv1 (Conv2D)        (None, 16, 16, 512)       2359808   \n",
      "_________________________________________________________________\n",
      "block5_conv2 (Conv2D)        (None, 16, 16, 512)       2359808   \n",
      "_________________________________________________________________\n",
      "block5_conv3 (Conv2D)        (None, 16, 16, 512)       2359808   \n",
      "_________________________________________________________________\n",
      "block5_pool (MaxPooling2D)   (None, 8, 8, 512)         0         \n",
      "_________________________________________________________________\n",
      "global_average_pooling2d (Gl (None, 512)               0         \n",
      "_________________________________________________________________\n",
      "dense (Dense)                (None, 1024)              525312    \n",
      "_________________________________________________________________\n",
      "dense_1 (Dense)              (None, 1)                 1025      \n",
      "=================================================================\n",
      "Total params: 15,241,025\n",
      "Trainable params: 13,505,537\n",
      "Non-trainable params: 1,735,488\n",
      "_________________________________________________________________\n"
     ]
    }
   ],
   "source": [
    "loaded_model = tf.keras.models.load_model('saved_models/vgg16_aug', compile=False)\n",
    "\n",
    "#JACCARD LOSS AND DICE METRIC \n",
    "loaded_model.compile(\n",
    "    optimizer=tf.keras.optimizers.SGD(learning_rate=0.0001, momentum=0.9),\n",
    "              loss=tf.keras.losses.BinaryCrossentropy(from_logits=False),\n",
    "              metrics=['accuracy'])\n",
    "# Check its architecture\n",
    "loaded_model.summary()"
   ]
  },
  {
   "cell_type": "markdown",
   "id": "6ff67fde-b43e-4a8e-b780-91c6c83687ca",
   "metadata": {
    "tags": [],
    "toc-hr-collapsed": true
   },
   "source": [
    "# MobileNetV3Large"
   ]
  },
  {
   "cell_type": "markdown",
   "id": "97dc11f9-e66c-4e52-96ea-b03e66037650",
   "metadata": {
    "tags": [],
    "toc-hr-collapsed": true
   },
   "source": [
    "## Train"
   ]
  },
  {
   "cell_type": "code",
   "execution_count": 11,
   "id": "f7bdea6e-4548-4014-811c-2fde69d3850c",
   "metadata": {},
   "outputs": [
    {
     "name": "stdout",
     "output_type": "stream",
     "text": [
      "WARNING:tensorflow:`input_shape` is undefined or non-square, or `rows` is not 224. Weights for input shape (224, 224) will be loaded as the default.\n",
      "Downloading data from https://storage.googleapis.com/tensorflow/keras-applications/mobilenet_v3/weights_mobilenet_v3_large_224_1.0_float_no_top.h5\n",
      "17612800/17605208 [==============================] - 2s 0us/step\n",
      "17620992/17605208 [==============================] - 2s 0us/step\n"
     ]
    }
   ],
   "source": [
    "# create the base pre-trained model\n",
    "\n",
    "base_model_mobilenet_v3 = tf.keras.applications.MobileNetV3Large(weights='imagenet',\n",
    "                                                     include_top=False, input_shape = input_size)\n",
    "\n",
    "# add a global spatial average pooling layer\n",
    "x = base_model_mobilenet_v3.output\n",
    "x = GlobalAveragePooling2D()(x)\n",
    "# let's add a fully-connected layer\n",
    "x = Dense(1024, activation='relu')(x)\n",
    "# and a logistic layer -- let's say we have 2 classes\n",
    "predictions = Dense(n_classes, activation='sigmoid')(x)"
   ]
  },
  {
   "cell_type": "code",
   "execution_count": 12,
   "id": "8e1ad6b6-65b7-45dd-ad36-ed55fd51f9ef",
   "metadata": {},
   "outputs": [],
   "source": [
    "# this is the model we will train\n",
    "model_mobilenet_v3 = Model(inputs=base_model_mobilenet_v3.input, outputs=predictions)"
   ]
  },
  {
   "cell_type": "code",
   "execution_count": 13,
   "id": "095b5001-1baf-45d1-8414-b5bd573bdcb8",
   "metadata": {
    "collapsed": true,
    "jupyter": {
     "outputs_hidden": true
    },
    "tags": []
   },
   "outputs": [
    {
     "name": "stdout",
     "output_type": "stream",
     "text": [
      "Model: \"model\"\n",
      "__________________________________________________________________________________________________\n",
      "Layer (type)                    Output Shape         Param #     Connected to                     \n",
      "==================================================================================================\n",
      "input_1 (InputLayer)            [(None, 256, 256, 3) 0                                            \n",
      "__________________________________________________________________________________________________\n",
      "rescaling (Rescaling)           (None, 256, 256, 3)  0           input_1[0][0]                    \n",
      "__________________________________________________________________________________________________\n",
      "Conv (Conv2D)                   (None, 128, 128, 16) 432         rescaling[0][0]                  \n",
      "__________________________________________________________________________________________________\n",
      "Conv/BatchNorm (BatchNormalizat (None, 128, 128, 16) 64          Conv[0][0]                       \n",
      "__________________________________________________________________________________________________\n",
      "tf.__operators__.add (TFOpLambd (None, 128, 128, 16) 0           Conv/BatchNorm[0][0]             \n",
      "__________________________________________________________________________________________________\n",
      "re_lu (ReLU)                    (None, 128, 128, 16) 0           tf.__operators__.add[0][0]       \n",
      "__________________________________________________________________________________________________\n",
      "tf.math.multiply (TFOpLambda)   (None, 128, 128, 16) 0           re_lu[0][0]                      \n",
      "__________________________________________________________________________________________________\n",
      "multiply (Multiply)             (None, 128, 128, 16) 0           Conv/BatchNorm[0][0]             \n",
      "                                                                 tf.math.multiply[0][0]           \n",
      "__________________________________________________________________________________________________\n",
      "expanded_conv/depthwise (Depthw (None, 128, 128, 16) 144         multiply[0][0]                   \n",
      "__________________________________________________________________________________________________\n",
      "expanded_conv/depthwise/BatchNo (None, 128, 128, 16) 64          expanded_conv/depthwise[0][0]    \n",
      "__________________________________________________________________________________________________\n",
      "re_lu_1 (ReLU)                  (None, 128, 128, 16) 0           expanded_conv/depthwise/BatchNorm\n",
      "__________________________________________________________________________________________________\n",
      "expanded_conv/project (Conv2D)  (None, 128, 128, 16) 256         re_lu_1[0][0]                    \n",
      "__________________________________________________________________________________________________\n",
      "expanded_conv/project/BatchNorm (None, 128, 128, 16) 64          expanded_conv/project[0][0]      \n",
      "__________________________________________________________________________________________________\n",
      "expanded_conv/Add (Add)         (None, 128, 128, 16) 0           multiply[0][0]                   \n",
      "                                                                 expanded_conv/project/BatchNorm[0\n",
      "__________________________________________________________________________________________________\n",
      "expanded_conv_1/expand (Conv2D) (None, 128, 128, 64) 1024        expanded_conv/Add[0][0]          \n",
      "__________________________________________________________________________________________________\n",
      "expanded_conv_1/expand/BatchNor (None, 128, 128, 64) 256         expanded_conv_1/expand[0][0]     \n",
      "__________________________________________________________________________________________________\n",
      "re_lu_2 (ReLU)                  (None, 128, 128, 64) 0           expanded_conv_1/expand/BatchNorm[\n",
      "__________________________________________________________________________________________________\n",
      "expanded_conv_1/depthwise/pad ( (None, 129, 129, 64) 0           re_lu_2[0][0]                    \n",
      "__________________________________________________________________________________________________\n",
      "expanded_conv_1/depthwise (Dept (None, 64, 64, 64)   576         expanded_conv_1/depthwise/pad[0][\n",
      "__________________________________________________________________________________________________\n",
      "expanded_conv_1/depthwise/Batch (None, 64, 64, 64)   256         expanded_conv_1/depthwise[0][0]  \n",
      "__________________________________________________________________________________________________\n",
      "re_lu_3 (ReLU)                  (None, 64, 64, 64)   0           expanded_conv_1/depthwise/BatchNo\n",
      "__________________________________________________________________________________________________\n",
      "expanded_conv_1/project (Conv2D (None, 64, 64, 24)   1536        re_lu_3[0][0]                    \n",
      "__________________________________________________________________________________________________\n",
      "expanded_conv_1/project/BatchNo (None, 64, 64, 24)   96          expanded_conv_1/project[0][0]    \n",
      "__________________________________________________________________________________________________\n",
      "expanded_conv_2/expand (Conv2D) (None, 64, 64, 72)   1728        expanded_conv_1/project/BatchNorm\n",
      "__________________________________________________________________________________________________\n",
      "expanded_conv_2/expand/BatchNor (None, 64, 64, 72)   288         expanded_conv_2/expand[0][0]     \n",
      "__________________________________________________________________________________________________\n",
      "re_lu_4 (ReLU)                  (None, 64, 64, 72)   0           expanded_conv_2/expand/BatchNorm[\n",
      "__________________________________________________________________________________________________\n",
      "expanded_conv_2/depthwise (Dept (None, 64, 64, 72)   648         re_lu_4[0][0]                    \n",
      "__________________________________________________________________________________________________\n",
      "expanded_conv_2/depthwise/Batch (None, 64, 64, 72)   288         expanded_conv_2/depthwise[0][0]  \n",
      "__________________________________________________________________________________________________\n",
      "re_lu_5 (ReLU)                  (None, 64, 64, 72)   0           expanded_conv_2/depthwise/BatchNo\n",
      "__________________________________________________________________________________________________\n",
      "expanded_conv_2/project (Conv2D (None, 64, 64, 24)   1728        re_lu_5[0][0]                    \n",
      "__________________________________________________________________________________________________\n",
      "expanded_conv_2/project/BatchNo (None, 64, 64, 24)   96          expanded_conv_2/project[0][0]    \n",
      "__________________________________________________________________________________________________\n",
      "expanded_conv_2/Add (Add)       (None, 64, 64, 24)   0           expanded_conv_1/project/BatchNorm\n",
      "                                                                 expanded_conv_2/project/BatchNorm\n",
      "__________________________________________________________________________________________________\n",
      "expanded_conv_3/expand (Conv2D) (None, 64, 64, 72)   1728        expanded_conv_2/Add[0][0]        \n",
      "__________________________________________________________________________________________________\n",
      "expanded_conv_3/expand/BatchNor (None, 64, 64, 72)   288         expanded_conv_3/expand[0][0]     \n",
      "__________________________________________________________________________________________________\n",
      "re_lu_6 (ReLU)                  (None, 64, 64, 72)   0           expanded_conv_3/expand/BatchNorm[\n",
      "__________________________________________________________________________________________________\n",
      "expanded_conv_3/depthwise/pad ( (None, 67, 67, 72)   0           re_lu_6[0][0]                    \n",
      "__________________________________________________________________________________________________\n",
      "expanded_conv_3/depthwise (Dept (None, 32, 32, 72)   1800        expanded_conv_3/depthwise/pad[0][\n",
      "__________________________________________________________________________________________________\n",
      "expanded_conv_3/depthwise/Batch (None, 32, 32, 72)   288         expanded_conv_3/depthwise[0][0]  \n",
      "__________________________________________________________________________________________________\n",
      "re_lu_7 (ReLU)                  (None, 32, 32, 72)   0           expanded_conv_3/depthwise/BatchNo\n",
      "__________________________________________________________________________________________________\n",
      "expanded_conv_3/squeeze_excite/ (None, 1, 1, 72)     0           re_lu_7[0][0]                    \n",
      "__________________________________________________________________________________________________\n",
      "expanded_conv_3/squeeze_excite/ (None, 1, 1, 24)     1752        expanded_conv_3/squeeze_excite/Av\n",
      "__________________________________________________________________________________________________\n",
      "expanded_conv_3/squeeze_excite/ (None, 1, 1, 24)     0           expanded_conv_3/squeeze_excite/Co\n",
      "__________________________________________________________________________________________________\n",
      "expanded_conv_3/squeeze_excite/ (None, 1, 1, 72)     1800        expanded_conv_3/squeeze_excite/Re\n",
      "__________________________________________________________________________________________________\n",
      "tf.__operators__.add_1 (TFOpLam (None, 1, 1, 72)     0           expanded_conv_3/squeeze_excite/Co\n",
      "__________________________________________________________________________________________________\n",
      "re_lu_8 (ReLU)                  (None, 1, 1, 72)     0           tf.__operators__.add_1[0][0]     \n",
      "__________________________________________________________________________________________________\n",
      "tf.math.multiply_1 (TFOpLambda) (None, 1, 1, 72)     0           re_lu_8[0][0]                    \n",
      "__________________________________________________________________________________________________\n",
      "expanded_conv_3/squeeze_excite/ (None, 32, 32, 72)   0           re_lu_7[0][0]                    \n",
      "                                                                 tf.math.multiply_1[0][0]         \n",
      "__________________________________________________________________________________________________\n",
      "expanded_conv_3/project (Conv2D (None, 32, 32, 40)   2880        expanded_conv_3/squeeze_excite/Mu\n",
      "__________________________________________________________________________________________________\n",
      "expanded_conv_3/project/BatchNo (None, 32, 32, 40)   160         expanded_conv_3/project[0][0]    \n",
      "__________________________________________________________________________________________________\n",
      "expanded_conv_4/expand (Conv2D) (None, 32, 32, 120)  4800        expanded_conv_3/project/BatchNorm\n",
      "__________________________________________________________________________________________________\n",
      "expanded_conv_4/expand/BatchNor (None, 32, 32, 120)  480         expanded_conv_4/expand[0][0]     \n",
      "__________________________________________________________________________________________________\n",
      "re_lu_9 (ReLU)                  (None, 32, 32, 120)  0           expanded_conv_4/expand/BatchNorm[\n",
      "__________________________________________________________________________________________________\n",
      "expanded_conv_4/depthwise (Dept (None, 32, 32, 120)  3000        re_lu_9[0][0]                    \n",
      "__________________________________________________________________________________________________\n",
      "expanded_conv_4/depthwise/Batch (None, 32, 32, 120)  480         expanded_conv_4/depthwise[0][0]  \n",
      "__________________________________________________________________________________________________\n",
      "re_lu_10 (ReLU)                 (None, 32, 32, 120)  0           expanded_conv_4/depthwise/BatchNo\n",
      "__________________________________________________________________________________________________\n",
      "expanded_conv_4/squeeze_excite/ (None, 1, 1, 120)    0           re_lu_10[0][0]                   \n",
      "__________________________________________________________________________________________________\n",
      "expanded_conv_4/squeeze_excite/ (None, 1, 1, 32)     3872        expanded_conv_4/squeeze_excite/Av\n",
      "__________________________________________________________________________________________________\n",
      "expanded_conv_4/squeeze_excite/ (None, 1, 1, 32)     0           expanded_conv_4/squeeze_excite/Co\n",
      "__________________________________________________________________________________________________\n",
      "expanded_conv_4/squeeze_excite/ (None, 1, 1, 120)    3960        expanded_conv_4/squeeze_excite/Re\n",
      "__________________________________________________________________________________________________\n",
      "tf.__operators__.add_2 (TFOpLam (None, 1, 1, 120)    0           expanded_conv_4/squeeze_excite/Co\n",
      "__________________________________________________________________________________________________\n",
      "re_lu_11 (ReLU)                 (None, 1, 1, 120)    0           tf.__operators__.add_2[0][0]     \n",
      "__________________________________________________________________________________________________\n",
      "tf.math.multiply_2 (TFOpLambda) (None, 1, 1, 120)    0           re_lu_11[0][0]                   \n",
      "__________________________________________________________________________________________________\n",
      "expanded_conv_4/squeeze_excite/ (None, 32, 32, 120)  0           re_lu_10[0][0]                   \n",
      "                                                                 tf.math.multiply_2[0][0]         \n",
      "__________________________________________________________________________________________________\n",
      "expanded_conv_4/project (Conv2D (None, 32, 32, 40)   4800        expanded_conv_4/squeeze_excite/Mu\n",
      "__________________________________________________________________________________________________\n",
      "expanded_conv_4/project/BatchNo (None, 32, 32, 40)   160         expanded_conv_4/project[0][0]    \n",
      "__________________________________________________________________________________________________\n",
      "expanded_conv_4/Add (Add)       (None, 32, 32, 40)   0           expanded_conv_3/project/BatchNorm\n",
      "                                                                 expanded_conv_4/project/BatchNorm\n",
      "__________________________________________________________________________________________________\n",
      "expanded_conv_5/expand (Conv2D) (None, 32, 32, 120)  4800        expanded_conv_4/Add[0][0]        \n",
      "__________________________________________________________________________________________________\n",
      "expanded_conv_5/expand/BatchNor (None, 32, 32, 120)  480         expanded_conv_5/expand[0][0]     \n",
      "__________________________________________________________________________________________________\n",
      "re_lu_12 (ReLU)                 (None, 32, 32, 120)  0           expanded_conv_5/expand/BatchNorm[\n",
      "__________________________________________________________________________________________________\n",
      "expanded_conv_5/depthwise (Dept (None, 32, 32, 120)  3000        re_lu_12[0][0]                   \n",
      "__________________________________________________________________________________________________\n",
      "expanded_conv_5/depthwise/Batch (None, 32, 32, 120)  480         expanded_conv_5/depthwise[0][0]  \n",
      "__________________________________________________________________________________________________\n",
      "re_lu_13 (ReLU)                 (None, 32, 32, 120)  0           expanded_conv_5/depthwise/BatchNo\n",
      "__________________________________________________________________________________________________\n",
      "expanded_conv_5/squeeze_excite/ (None, 1, 1, 120)    0           re_lu_13[0][0]                   \n",
      "__________________________________________________________________________________________________\n",
      "expanded_conv_5/squeeze_excite/ (None, 1, 1, 32)     3872        expanded_conv_5/squeeze_excite/Av\n",
      "__________________________________________________________________________________________________\n",
      "expanded_conv_5/squeeze_excite/ (None, 1, 1, 32)     0           expanded_conv_5/squeeze_excite/Co\n",
      "__________________________________________________________________________________________________\n",
      "expanded_conv_5/squeeze_excite/ (None, 1, 1, 120)    3960        expanded_conv_5/squeeze_excite/Re\n",
      "__________________________________________________________________________________________________\n",
      "tf.__operators__.add_3 (TFOpLam (None, 1, 1, 120)    0           expanded_conv_5/squeeze_excite/Co\n",
      "__________________________________________________________________________________________________\n",
      "re_lu_14 (ReLU)                 (None, 1, 1, 120)    0           tf.__operators__.add_3[0][0]     \n",
      "__________________________________________________________________________________________________\n",
      "tf.math.multiply_3 (TFOpLambda) (None, 1, 1, 120)    0           re_lu_14[0][0]                   \n",
      "__________________________________________________________________________________________________\n",
      "expanded_conv_5/squeeze_excite/ (None, 32, 32, 120)  0           re_lu_13[0][0]                   \n",
      "                                                                 tf.math.multiply_3[0][0]         \n",
      "__________________________________________________________________________________________________\n",
      "expanded_conv_5/project (Conv2D (None, 32, 32, 40)   4800        expanded_conv_5/squeeze_excite/Mu\n",
      "__________________________________________________________________________________________________\n",
      "expanded_conv_5/project/BatchNo (None, 32, 32, 40)   160         expanded_conv_5/project[0][0]    \n",
      "__________________________________________________________________________________________________\n",
      "expanded_conv_5/Add (Add)       (None, 32, 32, 40)   0           expanded_conv_4/Add[0][0]        \n",
      "                                                                 expanded_conv_5/project/BatchNorm\n",
      "__________________________________________________________________________________________________\n",
      "expanded_conv_6/expand (Conv2D) (None, 32, 32, 240)  9600        expanded_conv_5/Add[0][0]        \n",
      "__________________________________________________________________________________________________\n",
      "expanded_conv_6/expand/BatchNor (None, 32, 32, 240)  960         expanded_conv_6/expand[0][0]     \n",
      "__________________________________________________________________________________________________\n",
      "tf.__operators__.add_4 (TFOpLam (None, 32, 32, 240)  0           expanded_conv_6/expand/BatchNorm[\n",
      "__________________________________________________________________________________________________\n",
      "re_lu_15 (ReLU)                 (None, 32, 32, 240)  0           tf.__operators__.add_4[0][0]     \n",
      "__________________________________________________________________________________________________\n",
      "tf.math.multiply_4 (TFOpLambda) (None, 32, 32, 240)  0           re_lu_15[0][0]                   \n",
      "__________________________________________________________________________________________________\n",
      "multiply_1 (Multiply)           (None, 32, 32, 240)  0           expanded_conv_6/expand/BatchNorm[\n",
      "                                                                 tf.math.multiply_4[0][0]         \n",
      "__________________________________________________________________________________________________\n",
      "expanded_conv_6/depthwise/pad ( (None, 33, 33, 240)  0           multiply_1[0][0]                 \n",
      "__________________________________________________________________________________________________\n",
      "expanded_conv_6/depthwise (Dept (None, 16, 16, 240)  2160        expanded_conv_6/depthwise/pad[0][\n",
      "__________________________________________________________________________________________________\n",
      "expanded_conv_6/depthwise/Batch (None, 16, 16, 240)  960         expanded_conv_6/depthwise[0][0]  \n",
      "__________________________________________________________________________________________________\n",
      "tf.__operators__.add_5 (TFOpLam (None, 16, 16, 240)  0           expanded_conv_6/depthwise/BatchNo\n",
      "__________________________________________________________________________________________________\n",
      "re_lu_16 (ReLU)                 (None, 16, 16, 240)  0           tf.__operators__.add_5[0][0]     \n",
      "__________________________________________________________________________________________________\n",
      "tf.math.multiply_5 (TFOpLambda) (None, 16, 16, 240)  0           re_lu_16[0][0]                   \n",
      "__________________________________________________________________________________________________\n",
      "multiply_2 (Multiply)           (None, 16, 16, 240)  0           expanded_conv_6/depthwise/BatchNo\n",
      "                                                                 tf.math.multiply_5[0][0]         \n",
      "__________________________________________________________________________________________________\n",
      "expanded_conv_6/project (Conv2D (None, 16, 16, 80)   19200       multiply_2[0][0]                 \n",
      "__________________________________________________________________________________________________\n",
      "expanded_conv_6/project/BatchNo (None, 16, 16, 80)   320         expanded_conv_6/project[0][0]    \n",
      "__________________________________________________________________________________________________\n",
      "expanded_conv_7/expand (Conv2D) (None, 16, 16, 200)  16000       expanded_conv_6/project/BatchNorm\n",
      "__________________________________________________________________________________________________\n",
      "expanded_conv_7/expand/BatchNor (None, 16, 16, 200)  800         expanded_conv_7/expand[0][0]     \n",
      "__________________________________________________________________________________________________\n",
      "tf.__operators__.add_6 (TFOpLam (None, 16, 16, 200)  0           expanded_conv_7/expand/BatchNorm[\n",
      "__________________________________________________________________________________________________\n",
      "re_lu_17 (ReLU)                 (None, 16, 16, 200)  0           tf.__operators__.add_6[0][0]     \n",
      "__________________________________________________________________________________________________\n",
      "tf.math.multiply_6 (TFOpLambda) (None, 16, 16, 200)  0           re_lu_17[0][0]                   \n",
      "__________________________________________________________________________________________________\n",
      "multiply_3 (Multiply)           (None, 16, 16, 200)  0           expanded_conv_7/expand/BatchNorm[\n",
      "                                                                 tf.math.multiply_6[0][0]         \n",
      "__________________________________________________________________________________________________\n",
      "expanded_conv_7/depthwise (Dept (None, 16, 16, 200)  1800        multiply_3[0][0]                 \n",
      "__________________________________________________________________________________________________\n",
      "expanded_conv_7/depthwise/Batch (None, 16, 16, 200)  800         expanded_conv_7/depthwise[0][0]  \n",
      "__________________________________________________________________________________________________\n",
      "tf.__operators__.add_7 (TFOpLam (None, 16, 16, 200)  0           expanded_conv_7/depthwise/BatchNo\n",
      "__________________________________________________________________________________________________\n",
      "re_lu_18 (ReLU)                 (None, 16, 16, 200)  0           tf.__operators__.add_7[0][0]     \n",
      "__________________________________________________________________________________________________\n",
      "tf.math.multiply_7 (TFOpLambda) (None, 16, 16, 200)  0           re_lu_18[0][0]                   \n",
      "__________________________________________________________________________________________________\n",
      "multiply_4 (Multiply)           (None, 16, 16, 200)  0           expanded_conv_7/depthwise/BatchNo\n",
      "                                                                 tf.math.multiply_7[0][0]         \n",
      "__________________________________________________________________________________________________\n",
      "expanded_conv_7/project (Conv2D (None, 16, 16, 80)   16000       multiply_4[0][0]                 \n",
      "__________________________________________________________________________________________________\n",
      "expanded_conv_7/project/BatchNo (None, 16, 16, 80)   320         expanded_conv_7/project[0][0]    \n",
      "__________________________________________________________________________________________________\n",
      "expanded_conv_7/Add (Add)       (None, 16, 16, 80)   0           expanded_conv_6/project/BatchNorm\n",
      "                                                                 expanded_conv_7/project/BatchNorm\n",
      "__________________________________________________________________________________________________\n",
      "expanded_conv_8/expand (Conv2D) (None, 16, 16, 184)  14720       expanded_conv_7/Add[0][0]        \n",
      "__________________________________________________________________________________________________\n",
      "expanded_conv_8/expand/BatchNor (None, 16, 16, 184)  736         expanded_conv_8/expand[0][0]     \n",
      "__________________________________________________________________________________________________\n",
      "tf.__operators__.add_8 (TFOpLam (None, 16, 16, 184)  0           expanded_conv_8/expand/BatchNorm[\n",
      "__________________________________________________________________________________________________\n",
      "re_lu_19 (ReLU)                 (None, 16, 16, 184)  0           tf.__operators__.add_8[0][0]     \n",
      "__________________________________________________________________________________________________\n",
      "tf.math.multiply_8 (TFOpLambda) (None, 16, 16, 184)  0           re_lu_19[0][0]                   \n",
      "__________________________________________________________________________________________________\n",
      "multiply_5 (Multiply)           (None, 16, 16, 184)  0           expanded_conv_8/expand/BatchNorm[\n",
      "                                                                 tf.math.multiply_8[0][0]         \n",
      "__________________________________________________________________________________________________\n",
      "expanded_conv_8/depthwise (Dept (None, 16, 16, 184)  1656        multiply_5[0][0]                 \n",
      "__________________________________________________________________________________________________\n",
      "expanded_conv_8/depthwise/Batch (None, 16, 16, 184)  736         expanded_conv_8/depthwise[0][0]  \n",
      "__________________________________________________________________________________________________\n",
      "tf.__operators__.add_9 (TFOpLam (None, 16, 16, 184)  0           expanded_conv_8/depthwise/BatchNo\n",
      "__________________________________________________________________________________________________\n",
      "re_lu_20 (ReLU)                 (None, 16, 16, 184)  0           tf.__operators__.add_9[0][0]     \n",
      "__________________________________________________________________________________________________\n",
      "tf.math.multiply_9 (TFOpLambda) (None, 16, 16, 184)  0           re_lu_20[0][0]                   \n",
      "__________________________________________________________________________________________________\n",
      "multiply_6 (Multiply)           (None, 16, 16, 184)  0           expanded_conv_8/depthwise/BatchNo\n",
      "                                                                 tf.math.multiply_9[0][0]         \n",
      "__________________________________________________________________________________________________\n",
      "expanded_conv_8/project (Conv2D (None, 16, 16, 80)   14720       multiply_6[0][0]                 \n",
      "__________________________________________________________________________________________________\n",
      "expanded_conv_8/project/BatchNo (None, 16, 16, 80)   320         expanded_conv_8/project[0][0]    \n",
      "__________________________________________________________________________________________________\n",
      "expanded_conv_8/Add (Add)       (None, 16, 16, 80)   0           expanded_conv_7/Add[0][0]        \n",
      "                                                                 expanded_conv_8/project/BatchNorm\n",
      "__________________________________________________________________________________________________\n",
      "expanded_conv_9/expand (Conv2D) (None, 16, 16, 184)  14720       expanded_conv_8/Add[0][0]        \n",
      "__________________________________________________________________________________________________\n",
      "expanded_conv_9/expand/BatchNor (None, 16, 16, 184)  736         expanded_conv_9/expand[0][0]     \n",
      "__________________________________________________________________________________________________\n",
      "tf.__operators__.add_10 (TFOpLa (None, 16, 16, 184)  0           expanded_conv_9/expand/BatchNorm[\n",
      "__________________________________________________________________________________________________\n",
      "re_lu_21 (ReLU)                 (None, 16, 16, 184)  0           tf.__operators__.add_10[0][0]    \n",
      "__________________________________________________________________________________________________\n",
      "tf.math.multiply_10 (TFOpLambda (None, 16, 16, 184)  0           re_lu_21[0][0]                   \n",
      "__________________________________________________________________________________________________\n",
      "multiply_7 (Multiply)           (None, 16, 16, 184)  0           expanded_conv_9/expand/BatchNorm[\n",
      "                                                                 tf.math.multiply_10[0][0]        \n",
      "__________________________________________________________________________________________________\n",
      "expanded_conv_9/depthwise (Dept (None, 16, 16, 184)  1656        multiply_7[0][0]                 \n",
      "__________________________________________________________________________________________________\n",
      "expanded_conv_9/depthwise/Batch (None, 16, 16, 184)  736         expanded_conv_9/depthwise[0][0]  \n",
      "__________________________________________________________________________________________________\n",
      "tf.__operators__.add_11 (TFOpLa (None, 16, 16, 184)  0           expanded_conv_9/depthwise/BatchNo\n",
      "__________________________________________________________________________________________________\n",
      "re_lu_22 (ReLU)                 (None, 16, 16, 184)  0           tf.__operators__.add_11[0][0]    \n",
      "__________________________________________________________________________________________________\n",
      "tf.math.multiply_11 (TFOpLambda (None, 16, 16, 184)  0           re_lu_22[0][0]                   \n",
      "__________________________________________________________________________________________________\n",
      "multiply_8 (Multiply)           (None, 16, 16, 184)  0           expanded_conv_9/depthwise/BatchNo\n",
      "                                                                 tf.math.multiply_11[0][0]        \n",
      "__________________________________________________________________________________________________\n",
      "expanded_conv_9/project (Conv2D (None, 16, 16, 80)   14720       multiply_8[0][0]                 \n",
      "__________________________________________________________________________________________________\n",
      "expanded_conv_9/project/BatchNo (None, 16, 16, 80)   320         expanded_conv_9/project[0][0]    \n",
      "__________________________________________________________________________________________________\n",
      "expanded_conv_9/Add (Add)       (None, 16, 16, 80)   0           expanded_conv_8/Add[0][0]        \n",
      "                                                                 expanded_conv_9/project/BatchNorm\n",
      "__________________________________________________________________________________________________\n",
      "expanded_conv_10/expand (Conv2D (None, 16, 16, 480)  38400       expanded_conv_9/Add[0][0]        \n",
      "__________________________________________________________________________________________________\n",
      "expanded_conv_10/expand/BatchNo (None, 16, 16, 480)  1920        expanded_conv_10/expand[0][0]    \n",
      "__________________________________________________________________________________________________\n",
      "tf.__operators__.add_12 (TFOpLa (None, 16, 16, 480)  0           expanded_conv_10/expand/BatchNorm\n",
      "__________________________________________________________________________________________________\n",
      "re_lu_23 (ReLU)                 (None, 16, 16, 480)  0           tf.__operators__.add_12[0][0]    \n",
      "__________________________________________________________________________________________________\n",
      "tf.math.multiply_12 (TFOpLambda (None, 16, 16, 480)  0           re_lu_23[0][0]                   \n",
      "__________________________________________________________________________________________________\n",
      "multiply_9 (Multiply)           (None, 16, 16, 480)  0           expanded_conv_10/expand/BatchNorm\n",
      "                                                                 tf.math.multiply_12[0][0]        \n",
      "__________________________________________________________________________________________________\n",
      "expanded_conv_10/depthwise (Dep (None, 16, 16, 480)  4320        multiply_9[0][0]                 \n",
      "__________________________________________________________________________________________________\n",
      "expanded_conv_10/depthwise/Batc (None, 16, 16, 480)  1920        expanded_conv_10/depthwise[0][0] \n",
      "__________________________________________________________________________________________________\n",
      "tf.__operators__.add_13 (TFOpLa (None, 16, 16, 480)  0           expanded_conv_10/depthwise/BatchN\n",
      "__________________________________________________________________________________________________\n",
      "re_lu_24 (ReLU)                 (None, 16, 16, 480)  0           tf.__operators__.add_13[0][0]    \n",
      "__________________________________________________________________________________________________\n",
      "tf.math.multiply_13 (TFOpLambda (None, 16, 16, 480)  0           re_lu_24[0][0]                   \n",
      "__________________________________________________________________________________________________\n",
      "multiply_10 (Multiply)          (None, 16, 16, 480)  0           expanded_conv_10/depthwise/BatchN\n",
      "                                                                 tf.math.multiply_13[0][0]        \n",
      "__________________________________________________________________________________________________\n",
      "expanded_conv_10/squeeze_excite (None, 1, 1, 480)    0           multiply_10[0][0]                \n",
      "__________________________________________________________________________________________________\n",
      "expanded_conv_10/squeeze_excite (None, 1, 1, 120)    57720       expanded_conv_10/squeeze_excite/A\n",
      "__________________________________________________________________________________________________\n",
      "expanded_conv_10/squeeze_excite (None, 1, 1, 120)    0           expanded_conv_10/squeeze_excite/C\n",
      "__________________________________________________________________________________________________\n",
      "expanded_conv_10/squeeze_excite (None, 1, 1, 480)    58080       expanded_conv_10/squeeze_excite/R\n",
      "__________________________________________________________________________________________________\n",
      "tf.__operators__.add_14 (TFOpLa (None, 1, 1, 480)    0           expanded_conv_10/squeeze_excite/C\n",
      "__________________________________________________________________________________________________\n",
      "re_lu_25 (ReLU)                 (None, 1, 1, 480)    0           tf.__operators__.add_14[0][0]    \n",
      "__________________________________________________________________________________________________\n",
      "tf.math.multiply_14 (TFOpLambda (None, 1, 1, 480)    0           re_lu_25[0][0]                   \n",
      "__________________________________________________________________________________________________\n",
      "expanded_conv_10/squeeze_excite (None, 16, 16, 480)  0           multiply_10[0][0]                \n",
      "                                                                 tf.math.multiply_14[0][0]        \n",
      "__________________________________________________________________________________________________\n",
      "expanded_conv_10/project (Conv2 (None, 16, 16, 112)  53760       expanded_conv_10/squeeze_excite/M\n",
      "__________________________________________________________________________________________________\n",
      "expanded_conv_10/project/BatchN (None, 16, 16, 112)  448         expanded_conv_10/project[0][0]   \n",
      "__________________________________________________________________________________________________\n",
      "expanded_conv_11/expand (Conv2D (None, 16, 16, 672)  75264       expanded_conv_10/project/BatchNor\n",
      "__________________________________________________________________________________________________\n",
      "expanded_conv_11/expand/BatchNo (None, 16, 16, 672)  2688        expanded_conv_11/expand[0][0]    \n",
      "__________________________________________________________________________________________________\n",
      "tf.__operators__.add_15 (TFOpLa (None, 16, 16, 672)  0           expanded_conv_11/expand/BatchNorm\n",
      "__________________________________________________________________________________________________\n",
      "re_lu_26 (ReLU)                 (None, 16, 16, 672)  0           tf.__operators__.add_15[0][0]    \n",
      "__________________________________________________________________________________________________\n",
      "tf.math.multiply_15 (TFOpLambda (None, 16, 16, 672)  0           re_lu_26[0][0]                   \n",
      "__________________________________________________________________________________________________\n",
      "multiply_11 (Multiply)          (None, 16, 16, 672)  0           expanded_conv_11/expand/BatchNorm\n",
      "                                                                 tf.math.multiply_15[0][0]        \n",
      "__________________________________________________________________________________________________\n",
      "expanded_conv_11/depthwise (Dep (None, 16, 16, 672)  6048        multiply_11[0][0]                \n",
      "__________________________________________________________________________________________________\n",
      "expanded_conv_11/depthwise/Batc (None, 16, 16, 672)  2688        expanded_conv_11/depthwise[0][0] \n",
      "__________________________________________________________________________________________________\n",
      "tf.__operators__.add_16 (TFOpLa (None, 16, 16, 672)  0           expanded_conv_11/depthwise/BatchN\n",
      "__________________________________________________________________________________________________\n",
      "re_lu_27 (ReLU)                 (None, 16, 16, 672)  0           tf.__operators__.add_16[0][0]    \n",
      "__________________________________________________________________________________________________\n",
      "tf.math.multiply_16 (TFOpLambda (None, 16, 16, 672)  0           re_lu_27[0][0]                   \n",
      "__________________________________________________________________________________________________\n",
      "multiply_12 (Multiply)          (None, 16, 16, 672)  0           expanded_conv_11/depthwise/BatchN\n",
      "                                                                 tf.math.multiply_16[0][0]        \n",
      "__________________________________________________________________________________________________\n",
      "expanded_conv_11/squeeze_excite (None, 1, 1, 672)    0           multiply_12[0][0]                \n",
      "__________________________________________________________________________________________________\n",
      "expanded_conv_11/squeeze_excite (None, 1, 1, 168)    113064      expanded_conv_11/squeeze_excite/A\n",
      "__________________________________________________________________________________________________\n",
      "expanded_conv_11/squeeze_excite (None, 1, 1, 168)    0           expanded_conv_11/squeeze_excite/C\n",
      "__________________________________________________________________________________________________\n",
      "expanded_conv_11/squeeze_excite (None, 1, 1, 672)    113568      expanded_conv_11/squeeze_excite/R\n",
      "__________________________________________________________________________________________________\n",
      "tf.__operators__.add_17 (TFOpLa (None, 1, 1, 672)    0           expanded_conv_11/squeeze_excite/C\n",
      "__________________________________________________________________________________________________\n",
      "re_lu_28 (ReLU)                 (None, 1, 1, 672)    0           tf.__operators__.add_17[0][0]    \n",
      "__________________________________________________________________________________________________\n",
      "tf.math.multiply_17 (TFOpLambda (None, 1, 1, 672)    0           re_lu_28[0][0]                   \n",
      "__________________________________________________________________________________________________\n",
      "expanded_conv_11/squeeze_excite (None, 16, 16, 672)  0           multiply_12[0][0]                \n",
      "                                                                 tf.math.multiply_17[0][0]        \n",
      "__________________________________________________________________________________________________\n",
      "expanded_conv_11/project (Conv2 (None, 16, 16, 112)  75264       expanded_conv_11/squeeze_excite/M\n",
      "__________________________________________________________________________________________________\n",
      "expanded_conv_11/project/BatchN (None, 16, 16, 112)  448         expanded_conv_11/project[0][0]   \n",
      "__________________________________________________________________________________________________\n",
      "expanded_conv_11/Add (Add)      (None, 16, 16, 112)  0           expanded_conv_10/project/BatchNor\n",
      "                                                                 expanded_conv_11/project/BatchNor\n",
      "__________________________________________________________________________________________________\n",
      "expanded_conv_12/expand (Conv2D (None, 16, 16, 672)  75264       expanded_conv_11/Add[0][0]       \n",
      "__________________________________________________________________________________________________\n",
      "expanded_conv_12/expand/BatchNo (None, 16, 16, 672)  2688        expanded_conv_12/expand[0][0]    \n",
      "__________________________________________________________________________________________________\n",
      "tf.__operators__.add_18 (TFOpLa (None, 16, 16, 672)  0           expanded_conv_12/expand/BatchNorm\n",
      "__________________________________________________________________________________________________\n",
      "re_lu_29 (ReLU)                 (None, 16, 16, 672)  0           tf.__operators__.add_18[0][0]    \n",
      "__________________________________________________________________________________________________\n",
      "tf.math.multiply_18 (TFOpLambda (None, 16, 16, 672)  0           re_lu_29[0][0]                   \n",
      "__________________________________________________________________________________________________\n",
      "multiply_13 (Multiply)          (None, 16, 16, 672)  0           expanded_conv_12/expand/BatchNorm\n",
      "                                                                 tf.math.multiply_18[0][0]        \n",
      "__________________________________________________________________________________________________\n",
      "expanded_conv_12/depthwise/pad  (None, 19, 19, 672)  0           multiply_13[0][0]                \n",
      "__________________________________________________________________________________________________\n",
      "expanded_conv_12/depthwise (Dep (None, 8, 8, 672)    16800       expanded_conv_12/depthwise/pad[0]\n",
      "__________________________________________________________________________________________________\n",
      "expanded_conv_12/depthwise/Batc (None, 8, 8, 672)    2688        expanded_conv_12/depthwise[0][0] \n",
      "__________________________________________________________________________________________________\n",
      "tf.__operators__.add_19 (TFOpLa (None, 8, 8, 672)    0           expanded_conv_12/depthwise/BatchN\n",
      "__________________________________________________________________________________________________\n",
      "re_lu_30 (ReLU)                 (None, 8, 8, 672)    0           tf.__operators__.add_19[0][0]    \n",
      "__________________________________________________________________________________________________\n",
      "tf.math.multiply_19 (TFOpLambda (None, 8, 8, 672)    0           re_lu_30[0][0]                   \n",
      "__________________________________________________________________________________________________\n",
      "multiply_14 (Multiply)          (None, 8, 8, 672)    0           expanded_conv_12/depthwise/BatchN\n",
      "                                                                 tf.math.multiply_19[0][0]        \n",
      "__________________________________________________________________________________________________\n",
      "expanded_conv_12/squeeze_excite (None, 1, 1, 672)    0           multiply_14[0][0]                \n",
      "__________________________________________________________________________________________________\n",
      "expanded_conv_12/squeeze_excite (None, 1, 1, 168)    113064      expanded_conv_12/squeeze_excite/A\n",
      "__________________________________________________________________________________________________\n",
      "expanded_conv_12/squeeze_excite (None, 1, 1, 168)    0           expanded_conv_12/squeeze_excite/C\n",
      "__________________________________________________________________________________________________\n",
      "expanded_conv_12/squeeze_excite (None, 1, 1, 672)    113568      expanded_conv_12/squeeze_excite/R\n",
      "__________________________________________________________________________________________________\n",
      "tf.__operators__.add_20 (TFOpLa (None, 1, 1, 672)    0           expanded_conv_12/squeeze_excite/C\n",
      "__________________________________________________________________________________________________\n",
      "re_lu_31 (ReLU)                 (None, 1, 1, 672)    0           tf.__operators__.add_20[0][0]    \n",
      "__________________________________________________________________________________________________\n",
      "tf.math.multiply_20 (TFOpLambda (None, 1, 1, 672)    0           re_lu_31[0][0]                   \n",
      "__________________________________________________________________________________________________\n",
      "expanded_conv_12/squeeze_excite (None, 8, 8, 672)    0           multiply_14[0][0]                \n",
      "                                                                 tf.math.multiply_20[0][0]        \n",
      "__________________________________________________________________________________________________\n",
      "expanded_conv_12/project (Conv2 (None, 8, 8, 160)    107520      expanded_conv_12/squeeze_excite/M\n",
      "__________________________________________________________________________________________________\n",
      "expanded_conv_12/project/BatchN (None, 8, 8, 160)    640         expanded_conv_12/project[0][0]   \n",
      "__________________________________________________________________________________________________\n",
      "expanded_conv_13/expand (Conv2D (None, 8, 8, 960)    153600      expanded_conv_12/project/BatchNor\n",
      "__________________________________________________________________________________________________\n",
      "expanded_conv_13/expand/BatchNo (None, 8, 8, 960)    3840        expanded_conv_13/expand[0][0]    \n",
      "__________________________________________________________________________________________________\n",
      "tf.__operators__.add_21 (TFOpLa (None, 8, 8, 960)    0           expanded_conv_13/expand/BatchNorm\n",
      "__________________________________________________________________________________________________\n",
      "re_lu_32 (ReLU)                 (None, 8, 8, 960)    0           tf.__operators__.add_21[0][0]    \n",
      "__________________________________________________________________________________________________\n",
      "tf.math.multiply_21 (TFOpLambda (None, 8, 8, 960)    0           re_lu_32[0][0]                   \n",
      "__________________________________________________________________________________________________\n",
      "multiply_15 (Multiply)          (None, 8, 8, 960)    0           expanded_conv_13/expand/BatchNorm\n",
      "                                                                 tf.math.multiply_21[0][0]        \n",
      "__________________________________________________________________________________________________\n",
      "expanded_conv_13/depthwise (Dep (None, 8, 8, 960)    24000       multiply_15[0][0]                \n",
      "__________________________________________________________________________________________________\n",
      "expanded_conv_13/depthwise/Batc (None, 8, 8, 960)    3840        expanded_conv_13/depthwise[0][0] \n",
      "__________________________________________________________________________________________________\n",
      "tf.__operators__.add_22 (TFOpLa (None, 8, 8, 960)    0           expanded_conv_13/depthwise/BatchN\n",
      "__________________________________________________________________________________________________\n",
      "re_lu_33 (ReLU)                 (None, 8, 8, 960)    0           tf.__operators__.add_22[0][0]    \n",
      "__________________________________________________________________________________________________\n",
      "tf.math.multiply_22 (TFOpLambda (None, 8, 8, 960)    0           re_lu_33[0][0]                   \n",
      "__________________________________________________________________________________________________\n",
      "multiply_16 (Multiply)          (None, 8, 8, 960)    0           expanded_conv_13/depthwise/BatchN\n",
      "                                                                 tf.math.multiply_22[0][0]        \n",
      "__________________________________________________________________________________________________\n",
      "expanded_conv_13/squeeze_excite (None, 1, 1, 960)    0           multiply_16[0][0]                \n",
      "__________________________________________________________________________________________________\n",
      "expanded_conv_13/squeeze_excite (None, 1, 1, 240)    230640      expanded_conv_13/squeeze_excite/A\n",
      "__________________________________________________________________________________________________\n",
      "expanded_conv_13/squeeze_excite (None, 1, 1, 240)    0           expanded_conv_13/squeeze_excite/C\n",
      "__________________________________________________________________________________________________\n",
      "expanded_conv_13/squeeze_excite (None, 1, 1, 960)    231360      expanded_conv_13/squeeze_excite/R\n",
      "__________________________________________________________________________________________________\n",
      "tf.__operators__.add_23 (TFOpLa (None, 1, 1, 960)    0           expanded_conv_13/squeeze_excite/C\n",
      "__________________________________________________________________________________________________\n",
      "re_lu_34 (ReLU)                 (None, 1, 1, 960)    0           tf.__operators__.add_23[0][0]    \n",
      "__________________________________________________________________________________________________\n",
      "tf.math.multiply_23 (TFOpLambda (None, 1, 1, 960)    0           re_lu_34[0][0]                   \n",
      "__________________________________________________________________________________________________\n",
      "expanded_conv_13/squeeze_excite (None, 8, 8, 960)    0           multiply_16[0][0]                \n",
      "                                                                 tf.math.multiply_23[0][0]        \n",
      "__________________________________________________________________________________________________\n",
      "expanded_conv_13/project (Conv2 (None, 8, 8, 160)    153600      expanded_conv_13/squeeze_excite/M\n",
      "__________________________________________________________________________________________________\n",
      "expanded_conv_13/project/BatchN (None, 8, 8, 160)    640         expanded_conv_13/project[0][0]   \n",
      "__________________________________________________________________________________________________\n",
      "expanded_conv_13/Add (Add)      (None, 8, 8, 160)    0           expanded_conv_12/project/BatchNor\n",
      "                                                                 expanded_conv_13/project/BatchNor\n",
      "__________________________________________________________________________________________________\n",
      "expanded_conv_14/expand (Conv2D (None, 8, 8, 960)    153600      expanded_conv_13/Add[0][0]       \n",
      "__________________________________________________________________________________________________\n",
      "expanded_conv_14/expand/BatchNo (None, 8, 8, 960)    3840        expanded_conv_14/expand[0][0]    \n",
      "__________________________________________________________________________________________________\n",
      "tf.__operators__.add_24 (TFOpLa (None, 8, 8, 960)    0           expanded_conv_14/expand/BatchNorm\n",
      "__________________________________________________________________________________________________\n",
      "re_lu_35 (ReLU)                 (None, 8, 8, 960)    0           tf.__operators__.add_24[0][0]    \n",
      "__________________________________________________________________________________________________\n",
      "tf.math.multiply_24 (TFOpLambda (None, 8, 8, 960)    0           re_lu_35[0][0]                   \n",
      "__________________________________________________________________________________________________\n",
      "multiply_17 (Multiply)          (None, 8, 8, 960)    0           expanded_conv_14/expand/BatchNorm\n",
      "                                                                 tf.math.multiply_24[0][0]        \n",
      "__________________________________________________________________________________________________\n",
      "expanded_conv_14/depthwise (Dep (None, 8, 8, 960)    24000       multiply_17[0][0]                \n",
      "__________________________________________________________________________________________________\n",
      "expanded_conv_14/depthwise/Batc (None, 8, 8, 960)    3840        expanded_conv_14/depthwise[0][0] \n",
      "__________________________________________________________________________________________________\n",
      "tf.__operators__.add_25 (TFOpLa (None, 8, 8, 960)    0           expanded_conv_14/depthwise/BatchN\n",
      "__________________________________________________________________________________________________\n",
      "re_lu_36 (ReLU)                 (None, 8, 8, 960)    0           tf.__operators__.add_25[0][0]    \n",
      "__________________________________________________________________________________________________\n",
      "tf.math.multiply_25 (TFOpLambda (None, 8, 8, 960)    0           re_lu_36[0][0]                   \n",
      "__________________________________________________________________________________________________\n",
      "multiply_18 (Multiply)          (None, 8, 8, 960)    0           expanded_conv_14/depthwise/BatchN\n",
      "                                                                 tf.math.multiply_25[0][0]        \n",
      "__________________________________________________________________________________________________\n",
      "expanded_conv_14/squeeze_excite (None, 1, 1, 960)    0           multiply_18[0][0]                \n",
      "__________________________________________________________________________________________________\n",
      "expanded_conv_14/squeeze_excite (None, 1, 1, 240)    230640      expanded_conv_14/squeeze_excite/A\n",
      "__________________________________________________________________________________________________\n",
      "expanded_conv_14/squeeze_excite (None, 1, 1, 240)    0           expanded_conv_14/squeeze_excite/C\n",
      "__________________________________________________________________________________________________\n",
      "expanded_conv_14/squeeze_excite (None, 1, 1, 960)    231360      expanded_conv_14/squeeze_excite/R\n",
      "__________________________________________________________________________________________________\n",
      "tf.__operators__.add_26 (TFOpLa (None, 1, 1, 960)    0           expanded_conv_14/squeeze_excite/C\n",
      "__________________________________________________________________________________________________\n",
      "re_lu_37 (ReLU)                 (None, 1, 1, 960)    0           tf.__operators__.add_26[0][0]    \n",
      "__________________________________________________________________________________________________\n",
      "tf.math.multiply_26 (TFOpLambda (None, 1, 1, 960)    0           re_lu_37[0][0]                   \n",
      "__________________________________________________________________________________________________\n",
      "expanded_conv_14/squeeze_excite (None, 8, 8, 960)    0           multiply_18[0][0]                \n",
      "                                                                 tf.math.multiply_26[0][0]        \n",
      "__________________________________________________________________________________________________\n",
      "expanded_conv_14/project (Conv2 (None, 8, 8, 160)    153600      expanded_conv_14/squeeze_excite/M\n",
      "__________________________________________________________________________________________________\n",
      "expanded_conv_14/project/BatchN (None, 8, 8, 160)    640         expanded_conv_14/project[0][0]   \n",
      "__________________________________________________________________________________________________\n",
      "expanded_conv_14/Add (Add)      (None, 8, 8, 160)    0           expanded_conv_13/Add[0][0]       \n",
      "                                                                 expanded_conv_14/project/BatchNor\n",
      "__________________________________________________________________________________________________\n",
      "Conv_1 (Conv2D)                 (None, 8, 8, 960)    153600      expanded_conv_14/Add[0][0]       \n",
      "__________________________________________________________________________________________________\n",
      "Conv_1/BatchNorm (BatchNormaliz (None, 8, 8, 960)    3840        Conv_1[0][0]                     \n",
      "__________________________________________________________________________________________________\n",
      "tf.__operators__.add_27 (TFOpLa (None, 8, 8, 960)    0           Conv_1/BatchNorm[0][0]           \n",
      "__________________________________________________________________________________________________\n",
      "re_lu_38 (ReLU)                 (None, 8, 8, 960)    0           tf.__operators__.add_27[0][0]    \n",
      "__________________________________________________________________________________________________\n",
      "tf.math.multiply_27 (TFOpLambda (None, 8, 8, 960)    0           re_lu_38[0][0]                   \n",
      "__________________________________________________________________________________________________\n",
      "multiply_19 (Multiply)          (None, 8, 8, 960)    0           Conv_1/BatchNorm[0][0]           \n",
      "                                                                 tf.math.multiply_27[0][0]        \n",
      "__________________________________________________________________________________________________\n",
      "global_average_pooling2d (Globa (None, 1, 1, 960)    0           multiply_19[0][0]                \n",
      "__________________________________________________________________________________________________\n",
      "Conv_2 (Conv2D)                 (None, 1, 1, 1280)   1230080     global_average_pooling2d[0][0]   \n",
      "__________________________________________________________________________________________________\n",
      "tf.__operators__.add_28 (TFOpLa (None, 1, 1, 1280)   0           Conv_2[0][0]                     \n",
      "__________________________________________________________________________________________________\n",
      "re_lu_39 (ReLU)                 (None, 1, 1, 1280)   0           tf.__operators__.add_28[0][0]    \n",
      "__________________________________________________________________________________________________\n",
      "tf.math.multiply_28 (TFOpLambda (None, 1, 1, 1280)   0           re_lu_39[0][0]                   \n",
      "__________________________________________________________________________________________________\n",
      "multiply_20 (Multiply)          (None, 1, 1, 1280)   0           Conv_2[0][0]                     \n",
      "                                                                 tf.math.multiply_28[0][0]        \n",
      "__________________________________________________________________________________________________\n",
      "global_average_pooling2d_1 (Glo (None, 1280)         0           multiply_20[0][0]                \n",
      "__________________________________________________________________________________________________\n",
      "dense (Dense)                   (None, 1024)         1311744     global_average_pooling2d_1[0][0] \n",
      "__________________________________________________________________________________________________\n",
      "dense_1 (Dense)                 (None, 1)            1025        dense[0][0]                      \n",
      "==================================================================================================\n",
      "Total params: 5,539,201\n",
      "Trainable params: 5,514,801\n",
      "Non-trainable params: 24,400\n",
      "__________________________________________________________________________________________________\n"
     ]
    }
   ],
   "source": [
    "model_mobilenet_v3.summary()"
   ]
  },
  {
   "cell_type": "code",
   "execution_count": 14,
   "id": "c66cd6f9-88f7-406f-bacb-71d905e53894",
   "metadata": {},
   "outputs": [
    {
     "name": "stdout",
     "output_type": "stream",
     "text": [
      "Epoch 1/10\n",
      "1217/1217 [==============================] - 96s 64ms/step - loss: 0.1694 - accuracy: 0.9360 - val_loss: 0.1224 - val_accuracy: 0.9551\n",
      "Epoch 2/10\n",
      "1217/1217 [==============================] - 122s 100ms/step - loss: 0.1226 - accuracy: 0.9524 - val_loss: 0.1327 - val_accuracy: 0.9452\n",
      "Epoch 3/10\n",
      "1217/1217 [==============================] - 103s 85ms/step - loss: 0.1083 - accuracy: 0.9585 - val_loss: 0.1228 - val_accuracy: 0.9522\n",
      "Epoch 4/10\n",
      "1217/1217 [==============================] - 109s 89ms/step - loss: 0.0987 - accuracy: 0.9622 - val_loss: 0.1027 - val_accuracy: 0.9604\n",
      "Epoch 5/10\n",
      "1217/1217 [==============================] - 130s 107ms/step - loss: 0.0861 - accuracy: 0.9676 - val_loss: 0.0997 - val_accuracy: 0.9612\n",
      "Epoch 6/10\n",
      "1217/1217 [==============================] - 134s 110ms/step - loss: 0.0763 - accuracy: 0.9717 - val_loss: 0.0884 - val_accuracy: 0.9671\n",
      "Epoch 7/10\n",
      "1217/1217 [==============================] - 110s 90ms/step - loss: 0.0646 - accuracy: 0.9758 - val_loss: 0.0896 - val_accuracy: 0.9678\n",
      "Epoch 8/10\n",
      "1217/1217 [==============================] - 114s 94ms/step - loss: 0.0581 - accuracy: 0.9793 - val_loss: 0.0971 - val_accuracy: 0.9656\n",
      "Epoch 9/10\n",
      "1217/1217 [==============================] - 116s 95ms/step - loss: 0.0465 - accuracy: 0.9826 - val_loss: 0.0766 - val_accuracy: 0.9753\n",
      "Epoch 10/10\n",
      "1217/1217 [==============================] - 134s 110ms/step - loss: 0.0415 - accuracy: 0.9849 - val_loss: 0.0792 - val_accuracy: 0.9731\n"
     ]
    }
   ],
   "source": [
    "# first: train only the top layers (which were randomly initialized)\n",
    "# i.e. freeze all convolutional InceptionV3 layers\n",
    "for layer in base_model_mobilenet_v3.layers:\n",
    "    layer.trainable = False\n",
    "\n",
    "# compile the model (should be done *after* setting layers to non-trainable)\n",
    "model_mobilenet_v3.compile(optimizer='adam', \n",
    "              loss=tf.keras.losses.BinaryCrossentropy(from_logits=False),\n",
    "              metrics=['accuracy'])\n",
    "\n",
    "# train the model on the new data for a few epochs\n",
    "history = model_mobilenet_v3.fit(\n",
    "  train_ds,\n",
    "  validation_data=val_ds,\n",
    "  epochs=epochs\n",
    ")\n"
   ]
  },
  {
   "cell_type": "code",
   "execution_count": 15,
   "id": "27a1396b-eb7a-4d29-bb8d-fdde925fe6ae",
   "metadata": {
    "tags": []
   },
   "outputs": [
    {
     "data": {
      "image/png": "[encoded data removed]",
      "text/plain": [
       "<Figure size 432x288 with 1 Axes>"
      ]
     },
     "metadata": {
      "needs_background": "light"
     },
     "output_type": "display_data"
    }
   ],
   "source": [
    "#plot the training and validation accuracy and loss at each epoch\n",
    "loss = history.history['loss']\n",
    "val_loss = history.history['val_loss']\n",
    "epochs = range(1, len(loss) + 1)\n",
    "plt.plot(epochs, loss, 'y', label='Training loss')\n",
    "plt.plot(epochs, val_loss, 'r', label='Validation loss')\n",
    "plt.title('Training and validation loss')\n",
    "plt.xlabel('Epochs')\n",
    "plt.ylabel('Loss')\n",
    "plt.ylim(0, 1)\n",
    "plt.legend()\n",
    "plt.show()"
   ]
  },
  {
   "cell_type": "code",
   "execution_count": 16,
   "id": "fc39142e-adb3-451a-b746-7f037a28dfbe",
   "metadata": {
    "tags": []
   },
   "outputs": [
    {
     "data": {
      "image/png": "[encoded data removed]",
      "text/plain": [
       "<Figure size 432x288 with 1 Axes>"
      ]
     },
     "metadata": {
      "needs_background": "light"
     },
     "output_type": "display_data"
    }
   ],
   "source": [
    "acc = history.history['accuracy']\n",
    "val_acc = history.history['val_accuracy']\n",
    "plt.plot(epochs, acc, 'y', label='Training Accuracy')\n",
    "plt.plot(epochs, val_acc, 'r', label='Validation Accuracy')\n",
    "plt.title('Training and validation Accuracy')\n",
    "plt.xlabel('Epochs')\n",
    "plt.ylabel('Accuracy')\n",
    "plt.ylim(0, 1)\n",
    "plt.legend()\n",
    "plt.show()"
   ]
  },
  {
   "cell_type": "code",
   "execution_count": 17,
   "id": "cf85b2bd-5e3b-47fa-9aa6-99bec37bcb9e",
   "metadata": {
    "collapsed": true,
    "jupyter": {
     "outputs_hidden": true
    },
    "tags": []
   },
   "outputs": [
    {
     "name": "stdout",
     "output_type": "stream",
     "text": [
      "0 input_1\n",
      "1 rescaling\n",
      "2 Conv\n",
      "3 Conv/BatchNorm\n",
      "4 tf.__operators__.add\n",
      "5 re_lu\n",
      "6 tf.math.multiply\n",
      "7 multiply\n",
      "8 expanded_conv/depthwise\n",
      "9 expanded_conv/depthwise/BatchNorm\n",
      "10 re_lu_1\n",
      "11 expanded_conv/project\n",
      "12 expanded_conv/project/BatchNorm\n",
      "13 expanded_conv/Add\n",
      "14 expanded_conv_1/expand\n",
      "15 expanded_conv_1/expand/BatchNorm\n",
      "16 re_lu_2\n",
      "17 expanded_conv_1/depthwise/pad\n",
      "18 expanded_conv_1/depthwise\n",
      "19 expanded_conv_1/depthwise/BatchNorm\n",
      "20 re_lu_3\n",
      "21 expanded_conv_1/project\n",
      "22 expanded_conv_1/project/BatchNorm\n",
      "23 expanded_conv_2/expand\n",
      "24 expanded_conv_2/expand/BatchNorm\n",
      "25 re_lu_4\n",
      "26 expanded_conv_2/depthwise\n",
      "27 expanded_conv_2/depthwise/BatchNorm\n",
      "28 re_lu_5\n",
      "29 expanded_conv_2/project\n",
      "30 expanded_conv_2/project/BatchNorm\n",
      "31 expanded_conv_2/Add\n",
      "32 expanded_conv_3/expand\n",
      "33 expanded_conv_3/expand/BatchNorm\n",
      "34 re_lu_6\n",
      "35 expanded_conv_3/depthwise/pad\n",
      "36 expanded_conv_3/depthwise\n",
      "37 expanded_conv_3/depthwise/BatchNorm\n",
      "38 re_lu_7\n",
      "39 expanded_conv_3/squeeze_excite/AvgPool\n",
      "40 expanded_conv_3/squeeze_excite/Conv\n",
      "41 expanded_conv_3/squeeze_excite/Relu\n",
      "42 expanded_conv_3/squeeze_excite/Conv_1\n",
      "43 tf.__operators__.add_1\n",
      "44 re_lu_8\n",
      "45 tf.math.multiply_1\n",
      "46 expanded_conv_3/squeeze_excite/Mul\n",
      "47 expanded_conv_3/project\n",
      "48 expanded_conv_3/project/BatchNorm\n",
      "49 expanded_conv_4/expand\n",
      "50 expanded_conv_4/expand/BatchNorm\n",
      "51 re_lu_9\n",
      "52 expanded_conv_4/depthwise\n",
      "53 expanded_conv_4/depthwise/BatchNorm\n",
      "54 re_lu_10\n",
      "55 expanded_conv_4/squeeze_excite/AvgPool\n",
      "56 expanded_conv_4/squeeze_excite/Conv\n",
      "57 expanded_conv_4/squeeze_excite/Relu\n",
      "58 expanded_conv_4/squeeze_excite/Conv_1\n",
      "59 tf.__operators__.add_2\n",
      "60 re_lu_11\n",
      "61 tf.math.multiply_2\n",
      "62 expanded_conv_4/squeeze_excite/Mul\n",
      "63 expanded_conv_4/project\n",
      "64 expanded_conv_4/project/BatchNorm\n",
      "65 expanded_conv_4/Add\n",
      "66 expanded_conv_5/expand\n",
      "67 expanded_conv_5/expand/BatchNorm\n",
      "68 re_lu_12\n",
      "69 expanded_conv_5/depthwise\n",
      "70 expanded_conv_5/depthwise/BatchNorm\n",
      "71 re_lu_13\n",
      "72 expanded_conv_5/squeeze_excite/AvgPool\n",
      "73 expanded_conv_5/squeeze_excite/Conv\n",
      "74 expanded_conv_5/squeeze_excite/Relu\n",
      "75 expanded_conv_5/squeeze_excite/Conv_1\n",
      "76 tf.__operators__.add_3\n",
      "77 re_lu_14\n",
      "78 tf.math.multiply_3\n",
      "79 expanded_conv_5/squeeze_excite/Mul\n",
      "80 expanded_conv_5/project\n",
      "81 expanded_conv_5/project/BatchNorm\n",
      "82 expanded_conv_5/Add\n",
      "83 expanded_conv_6/expand\n",
      "84 expanded_conv_6/expand/BatchNorm\n",
      "85 tf.__operators__.add_4\n",
      "86 re_lu_15\n",
      "87 tf.math.multiply_4\n",
      "88 multiply_1\n",
      "89 expanded_conv_6/depthwise/pad\n",
      "90 expanded_conv_6/depthwise\n",
      "91 expanded_conv_6/depthwise/BatchNorm\n",
      "92 tf.__operators__.add_5\n",
      "93 re_lu_16\n",
      "94 tf.math.multiply_5\n",
      "95 multiply_2\n",
      "96 expanded_conv_6/project\n",
      "97 expanded_conv_6/project/BatchNorm\n",
      "98 expanded_conv_7/expand\n",
      "99 expanded_conv_7/expand/BatchNorm\n",
      "100 tf.__operators__.add_6\n",
      "101 re_lu_17\n",
      "102 tf.math.multiply_6\n",
      "103 multiply_3\n",
      "104 expanded_conv_7/depthwise\n",
      "105 expanded_conv_7/depthwise/BatchNorm\n",
      "106 tf.__operators__.add_7\n",
      "107 re_lu_18\n",
      "108 tf.math.multiply_7\n",
      "109 multiply_4\n",
      "110 expanded_conv_7/project\n",
      "111 expanded_conv_7/project/BatchNorm\n",
      "112 expanded_conv_7/Add\n",
      "113 expanded_conv_8/expand\n",
      "114 expanded_conv_8/expand/BatchNorm\n",
      "115 tf.__operators__.add_8\n",
      "116 re_lu_19\n",
      "117 tf.math.multiply_8\n",
      "118 multiply_5\n",
      "119 expanded_conv_8/depthwise\n",
      "120 expanded_conv_8/depthwise/BatchNorm\n",
      "121 tf.__operators__.add_9\n",
      "122 re_lu_20\n",
      "123 tf.math.multiply_9\n",
      "124 multiply_6\n",
      "125 expanded_conv_8/project\n",
      "126 expanded_conv_8/project/BatchNorm\n",
      "127 expanded_conv_8/Add\n",
      "128 expanded_conv_9/expand\n",
      "129 expanded_conv_9/expand/BatchNorm\n",
      "130 tf.__operators__.add_10\n",
      "131 re_lu_21\n",
      "132 tf.math.multiply_10\n",
      "133 multiply_7\n",
      "134 expanded_conv_9/depthwise\n",
      "135 expanded_conv_9/depthwise/BatchNorm\n",
      "136 tf.__operators__.add_11\n",
      "137 re_lu_22\n",
      "138 tf.math.multiply_11\n",
      "139 multiply_8\n",
      "140 expanded_conv_9/project\n",
      "141 expanded_conv_9/project/BatchNorm\n",
      "142 expanded_conv_9/Add\n",
      "143 expanded_conv_10/expand\n",
      "144 expanded_conv_10/expand/BatchNorm\n",
      "145 tf.__operators__.add_12\n",
      "146 re_lu_23\n",
      "147 tf.math.multiply_12\n",
      "148 multiply_9\n",
      "149 expanded_conv_10/depthwise\n",
      "150 expanded_conv_10/depthwise/BatchNorm\n",
      "151 tf.__operators__.add_13\n",
      "152 re_lu_24\n",
      "153 tf.math.multiply_13\n",
      "154 multiply_10\n",
      "155 expanded_conv_10/squeeze_excite/AvgPool\n",
      "156 expanded_conv_10/squeeze_excite/Conv\n",
      "157 expanded_conv_10/squeeze_excite/Relu\n",
      "158 expanded_conv_10/squeeze_excite/Conv_1\n",
      "159 tf.__operators__.add_14\n",
      "160 re_lu_25\n",
      "161 tf.math.multiply_14\n",
      "162 expanded_conv_10/squeeze_excite/Mul\n",
      "163 expanded_conv_10/project\n",
      "164 expanded_conv_10/project/BatchNorm\n",
      "165 expanded_conv_11/expand\n",
      "166 expanded_conv_11/expand/BatchNorm\n",
      "167 tf.__operators__.add_15\n",
      "168 re_lu_26\n",
      "169 tf.math.multiply_15\n",
      "170 multiply_11\n",
      "171 expanded_conv_11/depthwise\n",
      "172 expanded_conv_11/depthwise/BatchNorm\n",
      "173 tf.__operators__.add_16\n",
      "174 re_lu_27\n",
      "175 tf.math.multiply_16\n",
      "176 multiply_12\n",
      "177 expanded_conv_11/squeeze_excite/AvgPool\n",
      "178 expanded_conv_11/squeeze_excite/Conv\n",
      "179 expanded_conv_11/squeeze_excite/Relu\n",
      "180 expanded_conv_11/squeeze_excite/Conv_1\n",
      "181 tf.__operators__.add_17\n",
      "182 re_lu_28\n",
      "183 tf.math.multiply_17\n",
      "184 expanded_conv_11/squeeze_excite/Mul\n",
      "185 expanded_conv_11/project\n",
      "186 expanded_conv_11/project/BatchNorm\n",
      "187 expanded_conv_11/Add\n",
      "188 expanded_conv_12/expand\n",
      "189 expanded_conv_12/expand/BatchNorm\n",
      "190 tf.__operators__.add_18\n",
      "191 re_lu_29\n",
      "192 tf.math.multiply_18\n",
      "193 multiply_13\n",
      "194 expanded_conv_12/depthwise/pad\n",
      "195 expanded_conv_12/depthwise\n",
      "196 expanded_conv_12/depthwise/BatchNorm\n",
      "197 tf.__operators__.add_19\n",
      "198 re_lu_30\n",
      "199 tf.math.multiply_19\n",
      "200 multiply_14\n",
      "201 expanded_conv_12/squeeze_excite/AvgPool\n",
      "202 expanded_conv_12/squeeze_excite/Conv\n",
      "203 expanded_conv_12/squeeze_excite/Relu\n",
      "204 expanded_conv_12/squeeze_excite/Conv_1\n",
      "205 tf.__operators__.add_20\n",
      "206 re_lu_31\n",
      "207 tf.math.multiply_20\n",
      "208 expanded_conv_12/squeeze_excite/Mul\n",
      "209 expanded_conv_12/project\n",
      "210 expanded_conv_12/project/BatchNorm\n",
      "211 expanded_conv_13/expand\n",
      "212 expanded_conv_13/expand/BatchNorm\n",
      "213 tf.__operators__.add_21\n",
      "214 re_lu_32\n",
      "215 tf.math.multiply_21\n",
      "216 multiply_15\n",
      "217 expanded_conv_13/depthwise\n",
      "218 expanded_conv_13/depthwise/BatchNorm\n",
      "219 tf.__operators__.add_22\n",
      "220 re_lu_33\n",
      "221 tf.math.multiply_22\n",
      "222 multiply_16\n",
      "223 expanded_conv_13/squeeze_excite/AvgPool\n",
      "224 expanded_conv_13/squeeze_excite/Conv\n",
      "225 expanded_conv_13/squeeze_excite/Relu\n",
      "226 expanded_conv_13/squeeze_excite/Conv_1\n",
      "227 tf.__operators__.add_23\n",
      "228 re_lu_34\n",
      "229 tf.math.multiply_23\n",
      "230 expanded_conv_13/squeeze_excite/Mul\n",
      "231 expanded_conv_13/project\n",
      "232 expanded_conv_13/project/BatchNorm\n",
      "233 expanded_conv_13/Add\n",
      "234 expanded_conv_14/expand\n",
      "235 expanded_conv_14/expand/BatchNorm\n",
      "236 tf.__operators__.add_24\n",
      "237 re_lu_35\n",
      "238 tf.math.multiply_24\n",
      "239 multiply_17\n",
      "240 expanded_conv_14/depthwise\n",
      "241 expanded_conv_14/depthwise/BatchNorm\n",
      "242 tf.__operators__.add_25\n",
      "243 re_lu_36\n",
      "244 tf.math.multiply_25\n",
      "245 multiply_18\n",
      "246 expanded_conv_14/squeeze_excite/AvgPool\n",
      "247 expanded_conv_14/squeeze_excite/Conv\n",
      "248 expanded_conv_14/squeeze_excite/Relu\n",
      "249 expanded_conv_14/squeeze_excite/Conv_1\n",
      "250 tf.__operators__.add_26\n",
      "251 re_lu_37\n",
      "252 tf.math.multiply_26\n",
      "253 expanded_conv_14/squeeze_excite/Mul\n",
      "254 expanded_conv_14/project\n",
      "255 expanded_conv_14/project/BatchNorm\n",
      "256 expanded_conv_14/Add\n",
      "257 Conv_1\n",
      "258 Conv_1/BatchNorm\n",
      "259 tf.__operators__.add_27\n",
      "260 re_lu_38\n",
      "261 tf.math.multiply_27\n",
      "262 multiply_19\n",
      "263 global_average_pooling2d\n",
      "264 Conv_2\n",
      "265 tf.__operators__.add_28\n",
      "266 re_lu_39\n",
      "267 tf.math.multiply_28\n",
      "268 multiply_20\n"
     ]
    }
   ],
   "source": [
    "# at this point, the top layers are well trained and we can start fine-tuning\n",
    "# convolutional layers from inception V3. We will freeze the bottom N layers\n",
    "# and train the remaining top layers.\n",
    "# let's visualize layer names and layer indices to see how many layers\n",
    "# we should freeze:\n",
    "for i, layer in enumerate(base_model_mobilenet_v3.layers):\n",
    "   print(i, layer.name)\n"
   ]
  },
  {
   "cell_type": "code",
   "execution_count": 18,
   "id": "560403de-6200-43dc-8d1a-59ab9b381d93",
   "metadata": {},
   "outputs": [],
   "source": [
    "# we chose to train the top 2 inception blocks, i.e. we will freeze\n",
    "# the first 249 layers and unfreeze the rest:\n",
    "for layer in model_mobilenet_v3.layers[:221]:\n",
    "   layer.trainable = False\n",
    "for layer in model_mobilenet_v3.layers[221:]:\n",
    "   layer.trainable = True"
   ]
  },
  {
   "cell_type": "code",
   "execution_count": 19,
   "id": "c70f7b5d-75ff-4b57-b881-4171faa3a87e",
   "metadata": {},
   "outputs": [],
   "source": [
    "# we need to recompile the model for these modifications to take effect\n",
    "# we use SGD with a low learning rate\n",
    "\n",
    "model_mobilenet_v3.compile(\n",
    "    optimizer=tf.keras.optimizers.SGD(learning_rate=0.0001, momentum=0.9),\n",
    "              loss=tf.keras.losses.BinaryCrossentropy(from_logits=False),\n",
    "              metrics=['accuracy'])"
   ]
  },
  {
   "cell_type": "code",
   "execution_count": 21,
   "id": "d9e11aae-192f-45ac-87b0-bcb52b9c9a9a",
   "metadata": {
    "tags": []
   },
   "outputs": [
    {
     "name": "stdout",
     "output_type": "stream",
     "text": [
      "Epoch 1/10\n",
      "1217/1217 [==============================] - 127s 101ms/step - loss: 0.1939 - accuracy: 0.9430 - val_loss: 0.1077 - val_accuracy: 0.9628\n",
      "Epoch 2/10\n",
      "1217/1217 [==============================] - 123s 101ms/step - loss: 0.0923 - accuracy: 0.9658 - val_loss: 0.0981 - val_accuracy: 0.9635\n",
      "Epoch 3/10\n",
      "1217/1217 [==============================] - 126s 103ms/step - loss: 0.0706 - accuracy: 0.9737 - val_loss: 0.0946 - val_accuracy: 0.9632\n",
      "Epoch 4/10\n",
      "1217/1217 [==============================] - 127s 105ms/step - loss: 0.0589 - accuracy: 0.9787 - val_loss: 0.0896 - val_accuracy: 0.9640\n",
      "Epoch 5/10\n",
      "1217/1217 [==============================] - 129s 106ms/step - loss: 0.0505 - accuracy: 0.9827 - val_loss: 0.0842 - val_accuracy: 0.9675\n",
      "Epoch 6/10\n",
      "1217/1217 [==============================] - 118s 97ms/step - loss: 0.0440 - accuracy: 0.9856 - val_loss: 0.0825 - val_accuracy: 0.9669\n",
      "Epoch 7/10\n",
      "1217/1217 [==============================] - 111s 91ms/step - loss: 0.0388 - accuracy: 0.9881 - val_loss: 0.0778 - val_accuracy: 0.9708\n",
      "Epoch 8/10\n",
      "1217/1217 [==============================] - 129s 106ms/step - loss: 0.0344 - accuracy: 0.9900 - val_loss: 0.0770 - val_accuracy: 0.9714\n",
      "Epoch 9/10\n",
      "1217/1217 [==============================] - 134s 110ms/step - loss: 0.0303 - accuracy: 0.9918 - val_loss: 0.0739 - val_accuracy: 0.9730\n",
      "Epoch 10/10\n",
      "1217/1217 [==============================] - 126s 103ms/step - loss: 0.0269 - accuracy: 0.9932 - val_loss: 0.0729 - val_accuracy: 0.9732\n"
     ]
    }
   ],
   "source": [
    "# we train our model again (this time fine-tuning the top 2 inception blocks\n",
    "# alongside the top Dense layers\n",
    "# train the model on the new data for a few epochs\n",
    "history = model_mobilenet_v3.fit(\n",
    "  train_ds,\n",
    "  validation_data=val_ds,\n",
    "  epochs=10\n",
    ")"
   ]
  },
  {
   "cell_type": "code",
   "execution_count": 22,
   "id": "376bce42-e17b-40f6-98f5-1cd47a04e0b4",
   "metadata": {
    "tags": []
   },
   "outputs": [
    {
     "data": {
      "image/png": "[encoded data removed]",
      "text/plain": [
       "<Figure size 432x288 with 1 Axes>"
      ]
     },
     "metadata": {
      "needs_background": "light"
     },
     "output_type": "display_data"
    }
   ],
   "source": [
    "#plot the training and validation accuracy and loss at each epoch\n",
    "loss = history.history['loss']\n",
    "val_loss = history.history['val_loss']\n",
    "epochs = range(1, len(loss) + 1)\n",
    "plt.plot(epochs, loss, 'y', label='Training loss')\n",
    "plt.plot(epochs, val_loss, 'r', label='Validation loss')\n",
    "plt.title('Training and validation loss')\n",
    "plt.xlabel('Epochs')\n",
    "plt.ylabel('Loss')\n",
    "plt.ylim(0,1)\n",
    "plt.legend()\n",
    "plt.show()"
   ]
  },
  {
   "cell_type": "code",
   "execution_count": 23,
   "id": "b5afffad-ff7e-4a1c-8b88-330668044a3c",
   "metadata": {
    "tags": []
   },
   "outputs": [
    {
     "data": {
      "image/png": "[encoded data removed]",
      "text/plain": [
       "<Figure size 432x288 with 1 Axes>"
      ]
     },
     "metadata": {
      "needs_background": "light"
     },
     "output_type": "display_data"
    }
   ],
   "source": [
    "acc = history.history['accuracy']\n",
    "val_acc = history.history['val_accuracy']\n",
    "plt.plot(epochs, acc, 'y', label='Training Accuracy')\n",
    "plt.plot(epochs, val_acc, 'r', label='Validation Accuracy')\n",
    "plt.title('Training and validation Accuracy')\n",
    "plt.xlabel('Epochs')\n",
    "plt.ylabel('Accuracy')\n",
    "plt.ylim(0,1)\n",
    "plt.legend()\n",
    "plt.show()"
   ]
  },
  {
   "cell_type": "code",
   "execution_count": null,
   "id": "e8dab4c2-80fc-4f7a-97ba-99545985b73a",
   "metadata": {},
   "outputs": [],
   "source": []
  },
  {
   "cell_type": "markdown",
   "id": "1f55cb80-d1b3-4ecb-adab-4ff008b1cb15",
   "metadata": {
    "tags": [],
    "toc-hr-collapsed": true
   },
   "source": [
    "## Test"
   ]
  },
  {
   "cell_type": "code",
   "execution_count": 26,
   "id": "774fa79d-8192-409e-b77b-48436df317bb",
   "metadata": {},
   "outputs": [
    {
     "name": "stdout",
     "output_type": "stream",
     "text": [
      "Found 2513 files belonging to 2 classes.\n"
     ]
    }
   ],
   "source": [
    "# Now we get a test dataset.\n",
    "test_dir = '../Data/test'\n",
    "test_dir = pathlib.Path(test_dir)\n",
    "\n",
    "test_ds = tf.keras.utils.image_dataset_from_directory(\n",
    "  test_dir,\n",
    "  seed=123,\n",
    "  image_size=(img_height, img_width),\n",
    "  color_mode='rgb',\n",
    "  batch_size=batch_size)\n",
    "\n",
    "test_ds = test_ds.map(lambda x, y: (preprocess_images(x,'nothing'), y))"
   ]
  },
  {
   "cell_type": "code",
   "execution_count": 27,
   "id": "bbf6c303-e410-466c-bcd3-f2255ea1da5e",
   "metadata": {},
   "outputs": [
    {
     "name": "stdout",
     "output_type": "stream",
     "text": [
      "Evaluate\n",
      "79/79 [==============================] - 5s 62ms/step - loss: 0.4055 - accuracy: 0.9009\n"
     ]
    },
    {
     "data": {
      "text/plain": [
       "{'loss': 0.4055006206035614, 'accuracy': 0.900915265083313}"
      ]
     },
     "execution_count": 27,
     "metadata": {},
     "output_type": "execute_result"
    }
   ],
   "source": [
    "# You can also evaluate or predict on a dataset.\n",
    "print(\"Evaluate\")\n",
    "result = model_mobilenet_v3.evaluate(test_ds)\n",
    "dict(zip(model_mobilenet_v3.metrics_names, result))"
   ]
  },
  {
   "cell_type": "markdown",
   "id": "55e17809-bddf-4263-b65f-2d8987287034",
   "metadata": {
    "tags": [],
    "toc-hr-collapsed": true
   },
   "source": [
    "# VGG19"
   ]
  },
  {
   "cell_type": "markdown",
   "id": "d0370ffc-98c1-4957-a098-dd066596a4ed",
   "metadata": {
    "tags": [],
    "toc-hr-collapsed": true
   },
   "source": [
    "## Train"
   ]
  },
  {
   "cell_type": "code",
   "execution_count": 11,
   "id": "58c732bd-8401-4c10-b9f9-776202cc3f4d",
   "metadata": {},
   "outputs": [
    {
     "name": "stdout",
     "output_type": "stream",
     "text": [
      "Downloading data from https://storage.googleapis.com/tensorflow/keras-applications/vgg19/vgg19_weights_tf_dim_ordering_tf_kernels_notop.h5\n",
      "80142336/80134624 [==============================] - 8s 0us/step\n",
      "80150528/80134624 [==============================] - 8s 0us/step\n"
     ]
    }
   ],
   "source": [
    "# create the base pre-trained model\n",
    "\n",
    "base_model_vgg19 = tf.keras.applications.VGG19(weights='imagenet',\n",
    "                                                     include_top=False, input_shape = input_size)\n",
    "\n",
    "# add a global spatial average pooling layer\n",
    "x = base_model_vgg19.output\n",
    "x = GlobalAveragePooling2D()(x)\n",
    "# let's add a fully-connected layer\n",
    "x = Dense(1024, activation='relu')(x)\n",
    "# and a logistic layer -- let's say we have 2 classes\n",
    "predictions = Dense(n_classes, activation='sigmoid')(x)"
   ]
  },
  {
   "cell_type": "code",
   "execution_count": 12,
   "id": "30065ac6-93a4-4e41-b720-b61359705bb8",
   "metadata": {},
   "outputs": [],
   "source": [
    "# this is the model we will train\n",
    "model_vgg19 = Model(inputs=base_model_vgg19.input, outputs=predictions)"
   ]
  },
  {
   "cell_type": "code",
   "execution_count": null,
   "id": "1193608d-6b8d-4dd6-965b-4bc8d90b706e",
   "metadata": {
    "tags": []
   },
   "outputs": [],
   "source": [
    "model_vgg19.summary()"
   ]
  },
  {
   "cell_type": "code",
   "execution_count": 13,
   "id": "cfba4293-bdc3-4c83-893f-9be4abba9726",
   "metadata": {},
   "outputs": [
    {
     "name": "stdout",
     "output_type": "stream",
     "text": [
      "Epoch 1/10\n",
      "1217/1217 [==============================] - 166s 116ms/step - loss: 0.2215 - accuracy: 0.9254 - val_loss: 0.1420 - val_accuracy: 0.9478\n",
      "Epoch 2/10\n",
      "1217/1217 [==============================] - 146s 120ms/step - loss: 0.1514 - accuracy: 0.9433 - val_loss: 0.1558 - val_accuracy: 0.9416\n",
      "Epoch 3/10\n",
      "1217/1217 [==============================] - 143s 117ms/step - loss: 0.1356 - accuracy: 0.9509 - val_loss: 0.1294 - val_accuracy: 0.9488\n",
      "Epoch 4/10\n",
      "1217/1217 [==============================] - 144s 118ms/step - loss: 0.1240 - accuracy: 0.9532 - val_loss: 0.1428 - val_accuracy: 0.9444\n",
      "Epoch 5/10\n",
      "1217/1217 [==============================] - 143s 117ms/step - loss: 0.1157 - accuracy: 0.9565 - val_loss: 0.1116 - val_accuracy: 0.9591\n",
      "Epoch 6/10\n",
      "1217/1217 [==============================] - 142s 116ms/step - loss: 0.1034 - accuracy: 0.9625 - val_loss: 0.1112 - val_accuracy: 0.9576\n",
      "Epoch 7/10\n",
      "1217/1217 [==============================] - 142s 117ms/step - loss: 0.0959 - accuracy: 0.9641 - val_loss: 0.1126 - val_accuracy: 0.9618\n",
      "Epoch 8/10\n",
      "1217/1217 [==============================] - 146s 120ms/step - loss: 0.0856 - accuracy: 0.9682 - val_loss: 0.1002 - val_accuracy: 0.9636\n",
      "Epoch 9/10\n",
      "1217/1217 [==============================] - 136s 111ms/step - loss: 0.0755 - accuracy: 0.9728 - val_loss: 0.1241 - val_accuracy: 0.9579\n",
      "Epoch 10/10\n",
      "1217/1217 [==============================] - 145s 119ms/step - loss: 0.0687 - accuracy: 0.9751 - val_loss: 0.0987 - val_accuracy: 0.9635\n"
     ]
    }
   ],
   "source": [
    "# first: train only the top layers (which were randomly initialized)\n",
    "# i.e. freeze all convolutional InceptionV3 layers\n",
    "for layer in base_model_vgg19.layers:\n",
    "    layer.trainable = False\n",
    "\n",
    "# compile the model (should be done *after* setting layers to non-trainable)\n",
    "model_vgg19.compile(optimizer='adam', \n",
    "              loss=tf.keras.losses.BinaryCrossentropy(from_logits=False),\n",
    "              metrics=['accuracy'])\n",
    "\n",
    "# train the model on the new data for a few epochs\n",
    "history = model_vgg19.fit(\n",
    "  train_ds,\n",
    "  validation_data=val_ds,\n",
    "  epochs=epochs\n",
    ")\n"
   ]
  },
  {
   "cell_type": "code",
   "execution_count": 17,
   "id": "451eb278-26ca-4a6a-b4d8-66e837484fe4",
   "metadata": {
    "tags": []
   },
   "outputs": [
    {
     "data": {
      "image/png": "[encoded data removed]",
      "text/plain": [
       "<Figure size 432x288 with 1 Axes>"
      ]
     },
     "metadata": {
      "needs_background": "light"
     },
     "output_type": "display_data"
    }
   ],
   "source": [
    "#plot the training and validation accuracy and loss at each epoch\n",
    "loss = history.history['loss']\n",
    "val_loss = history.history['val_loss']\n",
    "epochs = range(1, len(loss) + 1)\n",
    "plt.plot(epochs, loss, 'y', label='Training loss')\n",
    "plt.plot(epochs, val_loss, 'r', label='Validation loss')\n",
    "plt.title('Training and validation loss')\n",
    "plt.xlabel('Epochs')\n",
    "plt.ylabel('Loss')\n",
    "plt.ylim(0, 1)\n",
    "plt.legend()\n",
    "plt.show()"
   ]
  },
  {
   "cell_type": "code",
   "execution_count": 18,
   "id": "e002ed57-0b75-471b-8a19-6882e837341a",
   "metadata": {
    "tags": []
   },
   "outputs": [
    {
     "data": {
      "image/png": "[encoded data removed]",
      "text/plain": [
       "<Figure size 432x288 with 1 Axes>"
      ]
     },
     "metadata": {
      "needs_background": "light"
     },
     "output_type": "display_data"
    }
   ],
   "source": [
    "acc = history.history['accuracy']\n",
    "val_acc = history.history['val_accuracy']\n",
    "plt.plot(epochs, acc, 'y', label='Training Accuracy')\n",
    "plt.plot(epochs, val_acc, 'r', label='Validation Accuracy')\n",
    "plt.title('Training and validation Accuracy')\n",
    "plt.xlabel('Epochs')\n",
    "plt.ylabel('Accuracy')\n",
    "plt.ylim(0, 1)\n",
    "plt.legend()\n",
    "plt.show()"
   ]
  },
  {
   "cell_type": "code",
   "execution_count": 16,
   "id": "7296d9cd-dd21-4580-bea7-e4269dcd2542",
   "metadata": {
    "tags": []
   },
   "outputs": [
    {
     "name": "stdout",
     "output_type": "stream",
     "text": [
      "0 input_1\n",
      "1 block1_conv1\n",
      "2 block1_conv2\n",
      "3 block1_pool\n",
      "4 block2_conv1\n",
      "5 block2_conv2\n",
      "6 block2_pool\n",
      "7 block3_conv1\n",
      "8 block3_conv2\n",
      "9 block3_conv3\n",
      "10 block3_conv4\n",
      "11 block3_pool\n",
      "12 block4_conv1\n",
      "13 block4_conv2\n",
      "14 block4_conv3\n",
      "15 block4_conv4\n",
      "16 block4_pool\n",
      "17 block5_conv1\n",
      "18 block5_conv2\n",
      "19 block5_conv3\n",
      "20 block5_conv4\n",
      "21 block5_pool\n"
     ]
    }
   ],
   "source": [
    "# at this point, the top layers are well trained and we can start fine-tuning\n",
    "# convolutional layers from inception V3. We will freeze the bottom N layers\n",
    "# and train the remaining top layers.\n",
    "# let's visualize layer names and layer indices to see how many layers\n",
    "# we should freeze:\n",
    "for i, layer in enumerate(base_model_vgg19.layers):\n",
    "   print(i, layer.name)\n"
   ]
  },
  {
   "cell_type": "code",
   "execution_count": 19,
   "id": "782e44a7-a0ac-4e22-9b71-2f18651d9343",
   "metadata": {},
   "outputs": [],
   "source": [
    "# we chose to train the top 2 inception blocks, i.e. we will freeze\n",
    "# the first 249 layers and unfreeze the rest:\n",
    "for layer in model_vgg19.layers[:12]:\n",
    "   layer.trainable = False\n",
    "for layer in model_vgg19.layers[12:]:\n",
    "   layer.trainable = True"
   ]
  },
  {
   "cell_type": "code",
   "execution_count": 20,
   "id": "f0b13b41-6dc8-41bb-9196-709b8b852731",
   "metadata": {},
   "outputs": [],
   "source": [
    "# we need to recompile the model for these modifications to take effect\n",
    "# we use SGD with a low learning rate\n",
    "\n",
    "model_vgg19.compile(\n",
    "    optimizer=tf.keras.optimizers.SGD(learning_rate=0.0001, momentum=0.9),\n",
    "              loss=tf.keras.losses.BinaryCrossentropy(from_logits=False),\n",
    "              metrics=['accuracy'])"
   ]
  },
  {
   "cell_type": "code",
   "execution_count": 22,
   "id": "9a5c063d-cde3-46d9-81ab-1f59c30d3498",
   "metadata": {
    "tags": []
   },
   "outputs": [
    {
     "name": "stdout",
     "output_type": "stream",
     "text": [
      "Epoch 1/10\n",
      "1217/1217 [==============================] - 205s 167ms/step - loss: 0.0700 - accuracy: 0.9741 - val_loss: 0.0701 - val_accuracy: 0.9737\n",
      "Epoch 2/10\n",
      "1217/1217 [==============================] - 207s 170ms/step - loss: 0.0353 - accuracy: 0.9880 - val_loss: 0.0773 - val_accuracy: 0.9734\n",
      "Epoch 3/10\n",
      "1217/1217 [==============================] - 206s 169ms/step - loss: 0.0197 - accuracy: 0.9931 - val_loss: 0.0606 - val_accuracy: 0.9803\n",
      "Epoch 4/10\n",
      "1217/1217 [==============================] - 218s 179ms/step - loss: 0.0111 - accuracy: 0.9963 - val_loss: 0.0648 - val_accuracy: 0.9816\n",
      "Epoch 5/10\n",
      "1217/1217 [==============================] - 214s 176ms/step - loss: 0.0056 - accuracy: 0.9985 - val_loss: 0.0532 - val_accuracy: 0.9848\n",
      "Epoch 6/10\n",
      "1217/1217 [==============================] - 212s 174ms/step - loss: 0.0050 - accuracy: 0.9987 - val_loss: 0.0754 - val_accuracy: 0.9804\n",
      "Epoch 7/10\n",
      "1217/1217 [==============================] - 210s 173ms/step - loss: 0.0016 - accuracy: 0.9998 - val_loss: 0.0559 - val_accuracy: 0.9848\n",
      "Epoch 8/10\n",
      "1217/1217 [==============================] - 217s 178ms/step - loss: 5.4446e-04 - accuracy: 1.0000 - val_loss: 0.0627 - val_accuracy: 0.9851\n",
      "Epoch 9/10\n",
      "1217/1217 [==============================] - 219s 180ms/step - loss: 2.5672e-04 - accuracy: 1.0000 - val_loss: 0.0660 - val_accuracy: 0.9853\n",
      "Epoch 10/10\n",
      "1217/1217 [==============================] - 220s 181ms/step - loss: 1.7348e-04 - accuracy: 1.0000 - val_loss: 0.0700 - val_accuracy: 0.9852\n"
     ]
    }
   ],
   "source": [
    "# we train our model again (this time fine-tuning the top 2 inception blocks\n",
    "# alongside the top Dense layers\n",
    "# train the model on the new data for a few epochs\n",
    "history = model_vgg19.fit(\n",
    "  train_ds,\n",
    "  validation_data=val_ds,\n",
    "  epochs=10\n",
    ")"
   ]
  },
  {
   "cell_type": "code",
   "execution_count": 23,
   "id": "ce3af94a-c337-452e-a889-72e02efff388",
   "metadata": {
    "tags": []
   },
   "outputs": [
    {
     "data": {
      "image/png": "[encoded data removed]",
      "text/plain": [
       "<Figure size 432x288 with 1 Axes>"
      ]
     },
     "metadata": {
      "needs_background": "light"
     },
     "output_type": "display_data"
    }
   ],
   "source": [
    "#plot the training and validation accuracy and loss at each epoch\n",
    "loss = history.history['loss']\n",
    "val_loss = history.history['val_loss']\n",
    "epochs = range(1, len(loss) + 1)\n",
    "plt.plot(epochs, loss, 'y', label='Training loss')\n",
    "plt.plot(epochs, val_loss, 'r', label='Validation loss')\n",
    "plt.title('Training and validation loss')\n",
    "plt.xlabel('Epochs')\n",
    "plt.ylabel('Loss')\n",
    "plt.ylim(0,1)\n",
    "plt.legend()\n",
    "plt.show()"
   ]
  },
  {
   "cell_type": "code",
   "execution_count": 24,
   "id": "bccec32c-deb9-4d24-823a-10f98e558fd6",
   "metadata": {
    "tags": []
   },
   "outputs": [
    {
     "data": {
      "image/png": "[encoded data removed]",
      "text/plain": [
       "<Figure size 432x288 with 1 Axes>"
      ]
     },
     "metadata": {
      "needs_background": "light"
     },
     "output_type": "display_data"
    }
   ],
   "source": [
    "acc = history.history['accuracy']\n",
    "val_acc = history.history['val_accuracy']\n",
    "plt.plot(epochs, acc, 'y', label='Training Accuracy')\n",
    "plt.plot(epochs, val_acc, 'r', label='Validation Accuracy')\n",
    "plt.title('Training and validation Accuracy')\n",
    "plt.xlabel('Epochs')\n",
    "plt.ylabel('Accuracy')\n",
    "plt.ylim(0,1)\n",
    "plt.legend()\n",
    "plt.show()"
   ]
  },
  {
   "cell_type": "code",
   "execution_count": null,
   "id": "d7859a3f-66e8-490d-a4f2-46b6f94ab527",
   "metadata": {},
   "outputs": [],
   "source": []
  },
  {
   "cell_type": "markdown",
   "id": "b4b0b266-0fd0-4e93-bc11-517fb2c29938",
   "metadata": {
    "tags": [],
    "toc-hr-collapsed": true
   },
   "source": [
    "## Test"
   ]
  },
  {
   "cell_type": "code",
   "execution_count": 25,
   "id": "376ccd64-be71-48b0-a7c8-59ee8133f15f",
   "metadata": {},
   "outputs": [
    {
     "name": "stdout",
     "output_type": "stream",
     "text": [
      "Found 2513 files belonging to 2 classes.\n"
     ]
    }
   ],
   "source": [
    "# Now we get a test dataset.\n",
    "test_dir = '../Data/test'\n",
    "test_dir = pathlib.Path(test_dir)\n",
    "\n",
    "test_ds = tf.keras.utils.image_dataset_from_directory(\n",
    "  test_dir,\n",
    "  seed=123,\n",
    "  image_size=(img_height, img_width),\n",
    "  color_mode='rgb',\n",
    "  batch_size=batch_size)\n",
    "\n",
    "test_ds = test_ds.map(lambda x, y: (preprocess_images(x,'vgg'), y))"
   ]
  },
  {
   "cell_type": "code",
   "execution_count": 26,
   "id": "105d2e08-a95d-4be4-a3cf-a7e17e4e8616",
   "metadata": {},
   "outputs": [
    {
     "name": "stdout",
     "output_type": "stream",
     "text": [
      "Evaluate\n",
      "79/79 [==============================] - 10s 125ms/step - loss: 0.7577 - accuracy: 0.9081\n"
     ]
    },
    {
     "data": {
      "text/plain": [
       "{'loss': 0.7576795220375061, 'accuracy': 0.9080780148506165}"
      ]
     },
     "execution_count": 26,
     "metadata": {},
     "output_type": "execute_result"
    }
   ],
   "source": [
    "# You can also evaluate or predict on a dataset.\n",
    "print(\"Evaluate\")\n",
    "result = model_vgg19.evaluate(test_ds)\n",
    "dict(zip(model_vgg19.metrics_names, result))"
   ]
  }
 ],
 "metadata": {
  "kernelspec": {
   "display_name": "Python 3",
   "language": "python",
   "name": "python3"
  },
  "language_info": {
   "codemirror_mode": {
    "name": "ipython",
    "version": 3
   },
   "file_extension": ".py",
   "mimetype": "text/x-python",
   "name": "python",
   "nbconvert_exporter": "python",
   "pygments_lexer": "ipython3",
   "version": "3.8.8"
  }
 },
 "nbformat": 4,
 "nbformat_minor": 5
}
